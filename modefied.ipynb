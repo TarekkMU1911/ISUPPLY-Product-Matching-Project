{
 "cells": [
  {
   "cell_type": "markdown",
   "metadata": {},
   "source": [
    "## Importing Libraries"
   ]
  },
  {
   "cell_type": "code",
   "execution_count": 1,
   "metadata": {},
   "outputs": [],
   "source": [
    "import numpy as np\n",
    "import pandas as pd\n",
    "import re\n",
    "import xgboost as xgb\n",
    "from sklearn.metrics import confusion_matrix, accuracy_score\n",
    "from sklearn.model_selection import train_test_split\n",
    "from sklearn.feature_extraction.text import TfidfVectorizer\n",
    "from sklearn.feature_extraction.text import CountVectorizer\n",
    "from sklearn.preprocessing import LabelEncoder\n",
    "import tensorflow as tf\n",
    "from tensorflow import keras\n",
    "from tensorflow.keras.layers import Embedding, LSTM, Dense, Dropout\n",
    "from sklearn.preprocessing import StandardScaler\n",
    "from scipy.sparse import csr_matrix\n",
    "import scipy\n",
    "import re\n",
    "import nltk\n",
    "from nltk.corpus import stopwords\n",
    "\n",
    "\n"
   ]
  },
  {
   "cell_type": "markdown",
   "metadata": {},
   "source": [
    "## Reading the DataSet"
   ]
  },
  {
   "cell_type": "code",
   "execution_count": 2,
   "metadata": {},
   "outputs": [
    {
     "data": {
      "text/html": [
       "<div>\n",
       "<style scoped>\n",
       "    .dataframe tbody tr th:only-of-type {\n",
       "        vertical-align: middle;\n",
       "    }\n",
       "\n",
       "    .dataframe tbody tr th {\n",
       "        vertical-align: top;\n",
       "    }\n",
       "\n",
       "    .dataframe thead th {\n",
       "        text-align: right;\n",
       "    }\n",
       "</style>\n",
       "<table border=\"1\" class=\"dataframe\">\n",
       "  <thead>\n",
       "    <tr style=\"text-align: right;\">\n",
       "      <th></th>\n",
       "      <th>sku</th>\n",
       "      <th>marketplace_product_name_ar</th>\n",
       "      <th>seller_item_name</th>\n",
       "      <th>price</th>\n",
       "    </tr>\n",
       "  </thead>\n",
       "  <tbody>\n",
       "    <tr>\n",
       "      <th>0</th>\n",
       "      <td>1322</td>\n",
       "      <td>استوهالت 40 مجم 14 كبسول</td>\n",
       "      <td>ESTOHALT 40 MG 14 CAP</td>\n",
       "      <td>56.5</td>\n",
       "    </tr>\n",
       "    <tr>\n",
       "      <th>1</th>\n",
       "      <td>1322</td>\n",
       "      <td>استوهالت 40 مجم 14 كبسول</td>\n",
       "      <td>استوهالت 40 مجم 14 ك</td>\n",
       "      <td>56.5</td>\n",
       "    </tr>\n",
       "    <tr>\n",
       "      <th>2</th>\n",
       "      <td>1322</td>\n",
       "      <td>استوهالت 40 مجم 14 كبسول</td>\n",
       "      <td>استوهالت 40 مجم 14 ك</td>\n",
       "      <td>56.5</td>\n",
       "    </tr>\n",
       "    <tr>\n",
       "      <th>3</th>\n",
       "      <td>1322</td>\n",
       "      <td>استوهالت 40 مجم 14 كبسول</td>\n",
       "      <td>استوهالت 40 مجم 14 ك</td>\n",
       "      <td>56.5</td>\n",
       "    </tr>\n",
       "    <tr>\n",
       "      <th>4</th>\n",
       "      <td>1322</td>\n",
       "      <td>استوهالت 40 مجم 14 كبسول</td>\n",
       "      <td>استوهالت 40 مجم 14 ك</td>\n",
       "      <td>56.5</td>\n",
       "    </tr>\n",
       "  </tbody>\n",
       "</table>\n",
       "</div>"
      ],
      "text/plain": [
       "    sku marketplace_product_name_ar       seller_item_name  price\n",
       "0  1322    استوهالت 40 مجم 14 كبسول  ESTOHALT 40 MG 14 CAP   56.5\n",
       "1  1322    استوهالت 40 مجم 14 كبسول   استوهالت 40 مجم 14 ك   56.5\n",
       "2  1322    استوهالت 40 مجم 14 كبسول   استوهالت 40 مجم 14 ك   56.5\n",
       "3  1322    استوهالت 40 مجم 14 كبسول   استوهالت 40 مجم 14 ك   56.5\n",
       "4  1322    استوهالت 40 مجم 14 كبسول   استوهالت 40 مجم 14 ك   56.5"
      ]
     },
     "execution_count": 2,
     "metadata": {},
     "output_type": "execute_result"
    }
   ],
   "source": [
    "df = pd.read_excel(\"Product Matching Dataset.xlsx\" , sheet_name=\"Dataset\")  \n",
    "df.head()"
   ]
  },
  {
   "cell_type": "code",
   "execution_count": 3,
   "metadata": {},
   "outputs": [
    {
     "data": {
      "text/html": [
       "<div>\n",
       "<style scoped>\n",
       "    .dataframe tbody tr th:only-of-type {\n",
       "        vertical-align: middle;\n",
       "    }\n",
       "\n",
       "    .dataframe tbody tr th {\n",
       "        vertical-align: top;\n",
       "    }\n",
       "\n",
       "    .dataframe thead th {\n",
       "        text-align: right;\n",
       "    }\n",
       "</style>\n",
       "<table border=\"1\" class=\"dataframe\">\n",
       "  <thead>\n",
       "    <tr style=\"text-align: right;\">\n",
       "      <th></th>\n",
       "      <th>sku</th>\n",
       "      <th>marketplace_product_name_ar</th>\n",
       "      <th>seller_item_name</th>\n",
       "      <th>price</th>\n",
       "    </tr>\n",
       "  </thead>\n",
       "  <tbody>\n",
       "    <tr>\n",
       "      <th>0</th>\n",
       "      <td>1322</td>\n",
       "      <td>استوهالت 40 مجم 14 كبسول</td>\n",
       "      <td>ESTOHALT 40 MG 14 CAP</td>\n",
       "      <td>56.5</td>\n",
       "    </tr>\n",
       "    <tr>\n",
       "      <th>1</th>\n",
       "      <td>1322</td>\n",
       "      <td>استوهالت 40 مجم 14 كبسول</td>\n",
       "      <td>استوهالت 40 مجم 14 ك</td>\n",
       "      <td>56.5</td>\n",
       "    </tr>\n",
       "    <tr>\n",
       "      <th>2</th>\n",
       "      <td>1322</td>\n",
       "      <td>استوهالت 40 مجم 14 كبسول</td>\n",
       "      <td>استوهالت 40 مجم 14 ك</td>\n",
       "      <td>56.5</td>\n",
       "    </tr>\n",
       "    <tr>\n",
       "      <th>3</th>\n",
       "      <td>1322</td>\n",
       "      <td>استوهالت 40 مجم 14 كبسول</td>\n",
       "      <td>استوهالت 40 مجم 14 ك</td>\n",
       "      <td>56.5</td>\n",
       "    </tr>\n",
       "    <tr>\n",
       "      <th>4</th>\n",
       "      <td>1322</td>\n",
       "      <td>استوهالت 40 مجم 14 كبسول</td>\n",
       "      <td>استوهالت 40 مجم 14 ك</td>\n",
       "      <td>56.5</td>\n",
       "    </tr>\n",
       "  </tbody>\n",
       "</table>\n",
       "</div>"
      ],
      "text/plain": [
       "    sku marketplace_product_name_ar       seller_item_name  price\n",
       "0  1322    استوهالت 40 مجم 14 كبسول  ESTOHALT 40 MG 14 CAP   56.5\n",
       "1  1322    استوهالت 40 مجم 14 كبسول   استوهالت 40 مجم 14 ك   56.5\n",
       "2  1322    استوهالت 40 مجم 14 كبسول   استوهالت 40 مجم 14 ك   56.5\n",
       "3  1322    استوهالت 40 مجم 14 كبسول   استوهالت 40 مجم 14 ك   56.5\n",
       "4  1322    استوهالت 40 مجم 14 كبسول   استوهالت 40 مجم 14 ك   56.5"
      ]
     },
     "execution_count": 3,
     "metadata": {},
     "output_type": "execute_result"
    }
   ],
   "source": [
    "test_df = pd.read_csv('test.csv')\n",
    "df.head()"
   ]
  },
  {
   "cell_type": "code",
   "execution_count": 4,
   "metadata": {},
   "outputs": [
    {
     "data": {
      "text/plain": [
       "(83562, 4)"
      ]
     },
     "execution_count": 4,
     "metadata": {},
     "output_type": "execute_result"
    }
   ],
   "source": [
    "df.shape"
   ]
  },
  {
   "cell_type": "code",
   "execution_count": 5,
   "metadata": {},
   "outputs": [
    {
     "name": "stdout",
     "output_type": "stream",
     "text": [
      "<class 'pandas.core.frame.DataFrame'>\n",
      "RangeIndex: 83562 entries, 0 to 83561\n",
      "Data columns (total 4 columns):\n",
      " #   Column                       Non-Null Count  Dtype  \n",
      "---  ------                       --------------  -----  \n",
      " 0   sku                          83562 non-null  int64  \n",
      " 1   marketplace_product_name_ar  83562 non-null  object \n",
      " 2   seller_item_name             83562 non-null  object \n",
      " 3   price                        83562 non-null  float64\n",
      "dtypes: float64(1), int64(1), object(2)\n",
      "memory usage: 2.6+ MB\n"
     ]
    }
   ],
   "source": [
    "df.info()"
   ]
  },
  {
   "cell_type": "code",
   "execution_count": 6,
   "metadata": {},
   "outputs": [
    {
     "data": {
      "text/html": [
       "<div>\n",
       "<style scoped>\n",
       "    .dataframe tbody tr th:only-of-type {\n",
       "        vertical-align: middle;\n",
       "    }\n",
       "\n",
       "    .dataframe tbody tr th {\n",
       "        vertical-align: top;\n",
       "    }\n",
       "\n",
       "    .dataframe thead th {\n",
       "        text-align: right;\n",
       "    }\n",
       "</style>\n",
       "<table border=\"1\" class=\"dataframe\">\n",
       "  <thead>\n",
       "    <tr style=\"text-align: right;\">\n",
       "      <th></th>\n",
       "      <th>sku</th>\n",
       "      <th>price</th>\n",
       "    </tr>\n",
       "  </thead>\n",
       "  <tbody>\n",
       "    <tr>\n",
       "      <th>count</th>\n",
       "      <td>83562.000000</td>\n",
       "      <td>83562.000000</td>\n",
       "    </tr>\n",
       "    <tr>\n",
       "      <th>mean</th>\n",
       "      <td>1600.653204</td>\n",
       "      <td>79.055458</td>\n",
       "    </tr>\n",
       "    <tr>\n",
       "      <th>std</th>\n",
       "      <td>1469.206223</td>\n",
       "      <td>62.818117</td>\n",
       "    </tr>\n",
       "    <tr>\n",
       "      <th>min</th>\n",
       "      <td>4.000000</td>\n",
       "      <td>7.000000</td>\n",
       "    </tr>\n",
       "    <tr>\n",
       "      <th>25%</th>\n",
       "      <td>476.000000</td>\n",
       "      <td>38.000000</td>\n",
       "    </tr>\n",
       "    <tr>\n",
       "      <th>50%</th>\n",
       "      <td>1312.000000</td>\n",
       "      <td>61.500000</td>\n",
       "    </tr>\n",
       "    <tr>\n",
       "      <th>75%</th>\n",
       "      <td>2258.000000</td>\n",
       "      <td>100.500000</td>\n",
       "    </tr>\n",
       "    <tr>\n",
       "      <th>max</th>\n",
       "      <td>9532.000000</td>\n",
       "      <td>406.000000</td>\n",
       "    </tr>\n",
       "  </tbody>\n",
       "</table>\n",
       "</div>"
      ],
      "text/plain": [
       "                sku         price\n",
       "count  83562.000000  83562.000000\n",
       "mean    1600.653204     79.055458\n",
       "std     1469.206223     62.818117\n",
       "min        4.000000      7.000000\n",
       "25%      476.000000     38.000000\n",
       "50%     1312.000000     61.500000\n",
       "75%     2258.000000    100.500000\n",
       "max     9532.000000    406.000000"
      ]
     },
     "execution_count": 6,
     "metadata": {},
     "output_type": "execute_result"
    }
   ],
   "source": [
    "df.describe()"
   ]
  },
  {
   "cell_type": "code",
   "execution_count": 7,
   "metadata": {},
   "outputs": [
    {
     "data": {
      "text/plain": [
       "sku                            0\n",
       "marketplace_product_name_ar    0\n",
       "seller_item_name               0\n",
       "price                          0\n",
       "dtype: int64"
      ]
     },
     "execution_count": 7,
     "metadata": {},
     "output_type": "execute_result"
    }
   ],
   "source": [
    "df.isna().sum()"
   ]
  },
  {
   "cell_type": "code",
   "execution_count": 8,
   "metadata": {},
   "outputs": [],
   "source": [
    "df = df.sample(frac=1).reset_index(drop=True)"
   ]
  },
  {
   "cell_type": "code",
   "execution_count": 9,
   "metadata": {},
   "outputs": [
    {
     "data": {
      "text/plain": [
       "Index(['sku', 'marketplace_product_name_ar', 'seller_item_name', 'price'], dtype='object')"
      ]
     },
     "execution_count": 9,
     "metadata": {},
     "output_type": "execute_result"
    }
   ],
   "source": [
    "df.columns"
   ]
  },
  {
   "cell_type": "code",
   "execution_count": 10,
   "metadata": {},
   "outputs": [
    {
     "name": "stdout",
     "output_type": "stream",
     "text": [
      "Train DataFrame shape: (66849, 4)\n",
      "Test DataFrame shape: (16713, 4)\n",
      "\n",
      "Train DataFrame first rows:\n",
      "     sku marketplace_product_name_ar             seller_item_name  price\n",
      "0  1312      موزابرايد 5 مجم 30 قرص  موزابرايد 5 مجم 30 قرص جديد   91.5\n",
      "1  4743     ميكروسيرك 16 مجم 20 قرص          ميكروسيرك 16 مجم 20   29.0\n",
      "2  2517  البافيت كالسيوم شراب 60 مل   البافيت شراب كالسيوم/ابيكس   26.0\n",
      "3  2374     زيستريل 20 مجم 10 اقراص   زيستريل 20مجم اقراص سعر 34   52.0\n",
      "4   639           اتور 10 مجم 7 قرص   اتور 10مجم 7ق/ابيكو س جديد   33.0\n"
     ]
    }
   ],
   "source": [
    "train_df, validation_df = train_test_split(df, test_size=0.2, stratify=df['sku'], random_state=42)\n",
    "\n",
    "train_df = train_df.reset_index(drop=True)\n",
    "validation_df = validation_df.reset_index(drop=True)\n",
    "\n",
    "print(\"Train DataFrame shape:\", train_df.shape)\n",
    "print(\"Test DataFrame shape:\", validation_df.shape)\n",
    "print(\"\\nTrain DataFrame first rows:\\n\", train_df.head())\n"
   ]
  },
  {
   "cell_type": "code",
   "execution_count": 11,
   "metadata": {},
   "outputs": [],
   "source": [
    "# test_df = train_df[['seller_item_name' , 'price']]"
   ]
  },
  {
   "cell_type": "code",
   "execution_count": 12,
   "metadata": {},
   "outputs": [],
   "source": [
    "# test_df.to_csv('test.csv' , index=False, encoding='utf-8-sig')"
   ]
  },
  {
   "cell_type": "markdown",
   "metadata": {},
   "source": [
    "## Import train and test datasets"
   ]
  },
  {
   "cell_type": "code",
   "execution_count": 13,
   "metadata": {},
   "outputs": [
    {
     "name": "stderr",
     "output_type": "stream",
     "text": [
      "<>:18: SyntaxWarning: invalid escape sequence '\\s'\n",
      "<>:18: SyntaxWarning: invalid escape sequence '\\s'\n",
      "/var/folders/qc/_v6f30pj3sq1vn0jhkyg29zw0000gn/T/ipykernel_78593/943379365.py:18: SyntaxWarning: invalid escape sequence '\\s'\n",
      "  pattern1 = '[^\\u0621-\\u064A0-9a-zA-Z\\s]'\n"
     ]
    }
   ],
   "source": [
    "def arabic_word_preprocessing(text):\n",
    "    # Download Arabic stopwords (only needed once)\n",
    "    nltk.download('stopwords')\n",
    "\n",
    "# Load Arabic stop words\n",
    "    arabic_stopwords = set(stopwords.words('arabic'))\n",
    "    X = []\n",
    "    for i in range(len(text)):\n",
    "        \n",
    "        statment = re.sub(r'[إأآ]', 'ا', text[i])  \n",
    "        statment = re.sub(r'ى', 'ي', statment)  \n",
    "        statment = re.sub(r'ة', 'ه', statment)  \n",
    "        statment = re.sub(r'ؤ', 'و', statment)  \n",
    "        statment = re.sub(r'ئ', 'ي', statment)  \n",
    "        statment = re.sub(r'ــ', '', statment)\n",
    "        statment = re.sub(r'([\\u0600-\\u06FF])\\1', r'\\1', statment)\n",
    "        \n",
    "        pattern1 = '[^\\u0621-\\u064A0-9a-zA-Z\\s]' \n",
    "        statment = re.sub(pattern1, ' ', statment)\n",
    "        \n",
    "        pattern = r\"(.)\\1+\"\n",
    "        statment = re.sub(pattern, r\"\\1\", statment)\n",
    "        \n",
    "        \n",
    "        statment = re.sub(r'(\\d+)(?=\\D)', r'\\1 ', statment)\n",
    "        statment = re.sub(r'(\\D)(\\d+)', r'\\1 \\2', statment)\n",
    "        \n",
    "        \n",
    "        pattern2 = r'\\b(اقراص\\w*|قرص\\w*|شري\\w*|كبسول\\w*|شرايط|افلام|فيلم|استحلاب|ك|ق)\\b'\n",
    "    \n",
    "        statment =  re.sub(pattern2, 'قرص', statment)\n",
    "        \n",
    "        pattern10 = r'\\bقرص\\s+([^0-9\\s]+)\\s*'\n",
    "        statment = re.sub(pattern10, 'قرص ', statment)        \n",
    "        \n",
    "        \n",
    "      \n",
    "        \n",
    "        patternn = r'\\bامبول\\w*|حقن\\w*\\b'\n",
    "        \n",
    "        statment = re.sub(patternn, 'امبول', statment)\n",
    "        \n",
    "        pattern11 = r'\\bامبول\\s+([^0-9\\s]+)\\s*'\n",
    "        statment = re.sub(pattern11, 'امبول', statment)\n",
    "        \n",
    "        pattern = r'جل'\n",
    "        statment = re.sub(pattern, 'جيل', statment)\n",
    "        \n",
    "        pattern = r'جيل.*غسول'\n",
    "        statment = re.sub(pattern, 'غسول', statment)\n",
    "        \n",
    "        pattern = r'دش'\n",
    "        statment = re.sub(pattern, 'غسول', statment)\n",
    "        \n",
    "        pattern100 = r'\\bجيل\\s+(.+)\\b'\n",
    "        statment = re.sub(pattern100, 'جيل', statment)\n",
    "        \n",
    "        pattern100 = r'\\bغسول\\s+([^0-9\\s]+)\\s*'\n",
    "        statment = re.sub(pattern100, 'غسول', statment)\n",
    "        \n",
    "        pattern100 = r'\\bمحلول\\s+([^0-9\\s]+)\\s*'\n",
    "        statment = re.sub(pattern100, 'محلول', statment)\n",
    "        \n",
    "\n",
    "        # pattern20 = r'\\bفروت|فواكه\\b'\n",
    "    \n",
    "        # statment =  re.sub(pattern20, 'فواكه', statment)\n",
    "        \n",
    "        # pattern100 = r'\\bفواكه\\s+(.+)\\b'\n",
    "        # statment = re.sub(pattern100, 'فواكه', statment)\n",
    "        \n",
    "        pattern3 = r'\\b(مل|ملي|مم|جم|مج|مجم|عادي|عاده)\\b'\n",
    "    \n",
    "        statment =  re.sub(pattern3, '', statment)\n",
    "        \n",
    "        pattern = r'(\\D)(قطر|قطره)\\b'\n",
    "        \n",
    "        \n",
    "        statment = re.sub(pattern, r'\\1 نقط', statment)\n",
    "        \n",
    "        pattern = r'قطر\\D+'\n",
    "        statment = re.sub(pattern, r'نقط', statment)\n",
    "        \n",
    "        pattern30 = r'\\b(قطره|قطر|نقط|نقطه|قطرهعين)\\b'\n",
    "    \n",
    "        statment =  re.sub(pattern30, 'نقط', statment)\n",
    "        \n",
    "\n",
    "        \n",
    "        pattern100 = r'\\bنقط\\s+([^0-9\\s]+)\\s*'\n",
    "        statment = re.sub(pattern100, 'نقط', statment)\n",
    "        \n",
    "        pattern = r'\\sفوار|اكياس|اكيااس'\n",
    "        statment = re.sub(pattern, 'كيس', statment)\n",
    "        \n",
    "        pattern100 = r'\\bكيس\\s+([^0-9\\s]+)\\s*'\n",
    "        statment = re.sub(pattern100, 'كيس', statment)\n",
    "        \n",
    "        pattern30 = r'\\b(سبراي|بخاخه)\\b'\n",
    "    \n",
    "        statment =  re.sub(pattern30, 'بخاخ', statment)\n",
    "        \n",
    "        \n",
    "        pattern = r'مرهم|اكريم'\n",
    "        statment = re.sub(pattern, 'كريم', statment)\n",
    "        \n",
    "        pattern100 = r'\\bكريم\\s+([^0-9\\s]+)\\s*'\n",
    "        statment = re.sub(pattern100, 'كريم', statment)\n",
    "        \n",
    "        \n",
    "        # pattern = r'لوشن'\n",
    "        # statment = re.sub(pattern, 'لوسيون', statment)\n",
    "        \n",
    "        # pattern100 = r'\\bلوسيون\\s+([^0-9\\s]+)\\s*'\n",
    "        # statment = re.sub(pattern100, 'لوسيون', statment)\n",
    "        \n",
    "        pattern100 = r'\\bبخاخ\\s+([^0-9\\s]+)\\s*'\n",
    "        statment = re.sub(pattern100, 'بخاخ', statment)\n",
    "        \n",
    "        pattern99 = r'\\b\\w*استنشاق\\w*\\b'\n",
    "        statment = re.sub(pattern99, '', statment)\n",
    "        \n",
    "        pattern100 = r'استنشـاق'\n",
    "        statment = re.sub(pattern100, '', statment)\n",
    "        \n",
    "        patter = r'شـراب+|شرب+|شراب+'\n",
    "        statment = re.sub(patter, ' شراب', statment)\n",
    "        \n",
    "        pattern100 = r'\\bشراب\\s+([^0-9\\s]+)\\s*'\n",
    "        statment = re.sub(pattern100, 'شراب', statment)\n",
    "        \n",
    "       \n",
    "        \n",
    "        pattern4 = r'\\b[قديم]+\\b' \n",
    "        statment = re.sub(pattern4, '', statment)\n",
    "\n",
    "        \n",
    "        \n",
    "        pattern5 = r'\\b[جديد]+\\b'\n",
    "        statment = re.sub(pattern5,\"\", statment)\n",
    "        \n",
    "        pattern6 = r'\\b[ء-ي]\\b'\n",
    "        statment = re.sub(pattern6, '', statment)\n",
    "        \n",
    "        pattern7 = r'\\b[سعر]+\\b'\n",
    "        statment = re.sub(pattern7, '', statment)\n",
    "        \n",
    "        pattern8 = r'\\bسج|سق\\b'\n",
    "        statment = re.sub(pattern8, '', statment)\n",
    "        \n",
    "        pattern9 = r'\\b\\w*سعر\\w*\\b'\n",
    "        statment = re.sub(pattern9, '', statment)\n",
    "        \n",
    "        pattern10 = r'\\b\\w*جدي\\w*\\b'\n",
    "        statment = re.sub(pattern10, '', statment)\n",
    "        \n",
    "        \n",
    "        # statment = re.sub('بلاس', 'بلس', statment)\n",
    "        \n",
    "        pattern = r\"(.)\\1+\"\n",
    "        statment = re.sub(pattern, r\"\\1\", statment)\n",
    "        \n",
    "        words = statment.split()\n",
    "\n",
    "    \n",
    "        filtered_words = [word for word in words if word not in arabic_stopwords]\n",
    "\n",
    "    \n",
    "\n",
    "\n",
    "\n",
    "        X.append(' '.join(filtered_words))\n",
    "   \n",
    "    \n",
    "    return X"
   ]
  },
  {
   "cell_type": "code",
   "execution_count": 14,
   "metadata": {},
   "outputs": [],
   "source": [
    "cv = CountVectorizer()\n",
    "le = LabelEncoder()"
   ]
  },
  {
   "cell_type": "code",
   "execution_count": 15,
   "metadata": {},
   "outputs": [],
   "source": [
    "def preparing_train_df(train_df):\n",
    "    seller_name = train_df['seller_item_name'].apply(str)\n",
    "    X_train_text = arabic_word_preprocessing(seller_name)\n",
    "    X_train_text = cv.fit_transform(X_train_text).toarray()\n",
    "\n",
    "    X_train_price = train_df[['price']].values  \n",
    "    X_train_price = StandardScaler().fit_transform(X_train_price)  \n",
    "\n",
    "    X_train_combined = np.hstack([X_train_text, X_train_price])  \n",
    "\n",
    "    y_train = train_df['sku'].values\n",
    "    y_train = le.fit_transform(y_train)\n",
    "\n",
    "    return X_train_combined, y_train\n"
   ]
  },
  {
   "cell_type": "code",
   "execution_count": 16,
   "metadata": {},
   "outputs": [],
   "source": [
    "def preparing_validation_df(df):\n",
    "    seller_name = df['seller_item_name'].apply(str)\n",
    "    X_test_text = arabic_word_preprocessing(seller_name)\n",
    "    # modefied = pd.DataFrame(X_test_text) \n",
    "    X_test_text = cv.transform(X_test_text).toarray()  \n",
    "\n",
    "    X_test_price = df[['price']].values  \n",
    "    X_test_price = StandardScaler().fit_transform(X_test_price)  \n",
    "\n",
    "    X_test_combined = np.hstack([X_test_text, X_test_price])  \n",
    "\n",
    "    y_test = df['sku'].values\n",
    "    y_test = le.transform(y_test)\n",
    "\n",
    "    return X_test_combined, y_test\n"
   ]
  },
  {
   "cell_type": "code",
   "execution_count": 17,
   "metadata": {},
   "outputs": [],
   "source": [
    "def preparing_test_df(df):\n",
    "    seller_name = df['seller_item_name'].apply(str)\n",
    "    X_test_text = arabic_word_preprocessing(seller_name)\n",
    "    X_test_text = cv.transform(X_test_text).toarray()  \n",
    "\n",
    "    X_test_price = df[['price']].values  \n",
    "    X_test_price = StandardScaler().fit_transform(X_test_price)  \n",
    "\n",
    "    X_test_combined = np.hstack([X_test_text, X_test_price])  \n",
    "\n",
    "\n",
    "    return X_test_combined\n"
   ]
  },
  {
   "cell_type": "code",
   "execution_count": 18,
   "metadata": {},
   "outputs": [
    {
     "name": "stdout",
     "output_type": "stream",
     "text": [
      "Index(['sku', 'marketplace_product_name_ar', 'seller_item_name', 'price'], dtype='object')\n"
     ]
    }
   ],
   "source": [
    "print(train_df.columns)\n"
   ]
  },
  {
   "cell_type": "code",
   "execution_count": 19,
   "metadata": {},
   "outputs": [
    {
     "name": "stdout",
     "output_type": "stream",
     "text": [
      "0\n"
     ]
    }
   ],
   "source": [
    "print(train_df['seller_item_name'].isnull().sum()) \n"
   ]
  },
  {
   "cell_type": "code",
   "execution_count": 20,
   "metadata": {},
   "outputs": [
    {
     "name": "stdout",
     "output_type": "stream",
     "text": [
      "(66849, 4)\n"
     ]
    }
   ],
   "source": [
    "print(train_df.shape)  \n"
   ]
  },
  {
   "cell_type": "code",
   "execution_count": 21,
   "metadata": {},
   "outputs": [
    {
     "data": {
      "text/html": [
       "<div>\n",
       "<style scoped>\n",
       "    .dataframe tbody tr th:only-of-type {\n",
       "        vertical-align: middle;\n",
       "    }\n",
       "\n",
       "    .dataframe tbody tr th {\n",
       "        vertical-align: top;\n",
       "    }\n",
       "\n",
       "    .dataframe thead th {\n",
       "        text-align: right;\n",
       "    }\n",
       "</style>\n",
       "<table border=\"1\" class=\"dataframe\">\n",
       "  <thead>\n",
       "    <tr style=\"text-align: right;\">\n",
       "      <th></th>\n",
       "      <th>sku</th>\n",
       "      <th>marketplace_product_name_ar</th>\n",
       "      <th>seller_item_name</th>\n",
       "      <th>price</th>\n",
       "    </tr>\n",
       "  </thead>\n",
       "  <tbody>\n",
       "    <tr>\n",
       "      <th>0</th>\n",
       "      <td>1312</td>\n",
       "      <td>موزابرايد 5 مجم 30 قرص</td>\n",
       "      <td>موزابرايد 5 مجم 30 قرص جديد</td>\n",
       "      <td>91.5</td>\n",
       "    </tr>\n",
       "    <tr>\n",
       "      <th>1</th>\n",
       "      <td>4743</td>\n",
       "      <td>ميكروسيرك 16 مجم 20 قرص</td>\n",
       "      <td>ميكروسيرك 16 مجم 20</td>\n",
       "      <td>29.0</td>\n",
       "    </tr>\n",
       "    <tr>\n",
       "      <th>2</th>\n",
       "      <td>2517</td>\n",
       "      <td>البافيت كالسيوم شراب 60 مل</td>\n",
       "      <td>البافيت شراب كالسيوم/ابيكس</td>\n",
       "      <td>26.0</td>\n",
       "    </tr>\n",
       "    <tr>\n",
       "      <th>3</th>\n",
       "      <td>2374</td>\n",
       "      <td>زيستريل 20 مجم 10 اقراص</td>\n",
       "      <td>زيستريل 20مجم اقراص سعر 34</td>\n",
       "      <td>52.0</td>\n",
       "    </tr>\n",
       "    <tr>\n",
       "      <th>4</th>\n",
       "      <td>639</td>\n",
       "      <td>اتور 10 مجم 7 قرص</td>\n",
       "      <td>اتور 10مجم 7ق/ابيكو س جديد</td>\n",
       "      <td>33.0</td>\n",
       "    </tr>\n",
       "  </tbody>\n",
       "</table>\n",
       "</div>"
      ],
      "text/plain": [
       "    sku marketplace_product_name_ar             seller_item_name  price\n",
       "0  1312      موزابرايد 5 مجم 30 قرص  موزابرايد 5 مجم 30 قرص جديد   91.5\n",
       "1  4743     ميكروسيرك 16 مجم 20 قرص          ميكروسيرك 16 مجم 20   29.0\n",
       "2  2517  البافيت كالسيوم شراب 60 مل   البافيت شراب كالسيوم/ابيكس   26.0\n",
       "3  2374     زيستريل 20 مجم 10 اقراص   زيستريل 20مجم اقراص سعر 34   52.0\n",
       "4   639           اتور 10 مجم 7 قرص   اتور 10مجم 7ق/ابيكو س جديد   33.0"
      ]
     },
     "execution_count": 21,
     "metadata": {},
     "output_type": "execute_result"
    }
   ],
   "source": [
    "train_df.head()"
   ]
  },
  {
   "cell_type": "code",
   "execution_count": 22,
   "metadata": {},
   "outputs": [
    {
     "data": {
      "text/plain": [
       "pandas.core.frame.DataFrame"
      ]
     },
     "execution_count": 22,
     "metadata": {},
     "output_type": "execute_result"
    }
   ],
   "source": [
    "type(df)"
   ]
  },
  {
   "cell_type": "code",
   "execution_count": 23,
   "metadata": {},
   "outputs": [
    {
     "data": {
      "text/plain": [
       "pandas.core.frame.DataFrame"
      ]
     },
     "execution_count": 23,
     "metadata": {},
     "output_type": "execute_result"
    }
   ],
   "source": [
    "type(train_df)"
   ]
  },
  {
   "cell_type": "code",
   "execution_count": 24,
   "metadata": {},
   "outputs": [
    {
     "data": {
      "text/plain": [
       "(83562, 4)"
      ]
     },
     "execution_count": 24,
     "metadata": {},
     "output_type": "execute_result"
    }
   ],
   "source": [
    "df.shape"
   ]
  },
  {
   "cell_type": "code",
   "execution_count": 25,
   "metadata": {},
   "outputs": [
    {
     "data": {
      "text/plain": [
       "(66849, 4)"
      ]
     },
     "execution_count": 25,
     "metadata": {},
     "output_type": "execute_result"
    }
   ],
   "source": [
    "train_df.shape"
   ]
  },
  {
   "cell_type": "code",
   "execution_count": 26,
   "metadata": {},
   "outputs": [
    {
     "name": "stderr",
     "output_type": "stream",
     "text": [
      "[nltk_data] Downloading package stopwords to /Users/mac/nltk_data...\n",
      "[nltk_data]   Package stopwords is already up-to-date!\n"
     ]
    }
   ],
   "source": [
    "X_train, y_train = preparing_train_df(train_df)"
   ]
  },
  {
   "cell_type": "code",
   "execution_count": 27,
   "metadata": {},
   "outputs": [
    {
     "name": "stderr",
     "output_type": "stream",
     "text": [
      "[nltk_data] Downloading package stopwords to /Users/mac/nltk_data...\n",
      "[nltk_data]   Package stopwords is already up-to-date!\n"
     ]
    }
   ],
   "source": [
    "X_validat, y_validat  = preparing_validation_df(validation_df)"
   ]
  },
  {
   "cell_type": "code",
   "execution_count": 28,
   "metadata": {},
   "outputs": [
    {
     "name": "stderr",
     "output_type": "stream",
     "text": [
      "[nltk_data] Downloading package stopwords to /Users/mac/nltk_data...\n",
      "[nltk_data]   Package stopwords is already up-to-date!\n"
     ]
    }
   ],
   "source": [
    "X_test = preparing_test_df(test_df)"
   ]
  },
  {
   "cell_type": "code",
   "execution_count": 29,
   "metadata": {},
   "outputs": [],
   "source": [
    "# X_train_price = train_df['price'].values\n",
    "# X_validat_price = validation_df['price'].values"
   ]
  },
  {
   "cell_type": "code",
   "execution_count": 30,
   "metadata": {},
   "outputs": [],
   "source": [
    "# scaler = StandardScaler()\n",
    "# X_train_price = scaler.fit_transform(X_test_price.reshape(-1, 1))  \n",
    "# X_test_price = scaler.transform(X_test_price.reshape(-1, 1))  "
   ]
  },
  {
   "cell_type": "code",
   "execution_count": 31,
   "metadata": {},
   "outputs": [
    {
     "data": {
      "text/plain": [
       "66849"
      ]
     },
     "execution_count": 31,
     "metadata": {},
     "output_type": "execute_result"
    }
   ],
   "source": [
    "X_train.shape[0]\n"
   ]
  },
  {
   "cell_type": "code",
   "execution_count": 32,
   "metadata": {},
   "outputs": [],
   "source": [
    "# X_train_price.shape[0]"
   ]
  },
  {
   "cell_type": "code",
   "execution_count": 33,
   "metadata": {},
   "outputs": [
    {
     "name": "stderr",
     "output_type": "stream",
     "text": [
      "/opt/anaconda3/lib/python3.12/site-packages/keras/src/layers/core/dense.py:87: UserWarning: Do not pass an `input_shape`/`input_dim` argument to a layer. When using Sequential models, prefer using an `Input(shape)` object as the first layer in the model instead.\n",
      "  super().__init__(activity_regularizer=activity_regularizer, **kwargs)\n"
     ]
    },
    {
     "name": "stdout",
     "output_type": "stream",
     "text": [
      "Epoch 1/50\n",
      "\u001b[1m523/523\u001b[0m \u001b[32m━━━━━━━━━━━━━━━━━━━━\u001b[0m\u001b[37m\u001b[0m \u001b[1m13s\u001b[0m 22ms/step - accuracy: 0.5105 - loss: 3.8629 - val_accuracy: 0.9535 - val_loss: 0.9790 - learning_rate: 5.0000e-04\n",
      "Epoch 2/50\n",
      "\u001b[1m523/523\u001b[0m \u001b[32m━━━━━━━━━━━━━━━━━━━━\u001b[0m\u001b[37m\u001b[0m \u001b[1m12s\u001b[0m 23ms/step - accuracy: 0.9669 - loss: 0.3457 - val_accuracy: 0.9782 - val_loss: 0.1623 - learning_rate: 5.0000e-04\n",
      "Epoch 3/50\n",
      "\u001b[1m523/523\u001b[0m \u001b[32m━━━━━━━━━━━━━━━━━━━━\u001b[0m\u001b[37m\u001b[0m \u001b[1m12s\u001b[0m 23ms/step - accuracy: 0.9822 - loss: 0.1725 - val_accuracy: 0.9818 - val_loss: 0.1399 - learning_rate: 5.0000e-04\n",
      "Epoch 4/50\n",
      "\u001b[1m523/523\u001b[0m \u001b[32m━━━━━━━━━━━━━━━━━━━━\u001b[0m\u001b[37m\u001b[0m \u001b[1m12s\u001b[0m 24ms/step - accuracy: 0.9880 - loss: 0.1246 - val_accuracy: 0.9829 - val_loss: 0.1305 - learning_rate: 5.0000e-04\n",
      "Epoch 5/50\n",
      "\u001b[1m523/523\u001b[0m \u001b[32m━━━━━━━━━━━━━━━━━━━━\u001b[0m\u001b[37m\u001b[0m \u001b[1m12s\u001b[0m 23ms/step - accuracy: 0.9906 - loss: 0.1059 - val_accuracy: 0.9841 - val_loss: 0.1220 - learning_rate: 5.0000e-04\n",
      "Epoch 6/50\n",
      "\u001b[1m523/523\u001b[0m \u001b[32m━━━━━━━━━━━━━━━━━━━━\u001b[0m\u001b[37m\u001b[0m \u001b[1m14s\u001b[0m 26ms/step - accuracy: 0.9901 - loss: 0.0957 - val_accuracy: 0.9856 - val_loss: 0.1146 - learning_rate: 5.0000e-04\n",
      "Epoch 7/50\n",
      "\u001b[1m523/523\u001b[0m \u001b[32m━━━━━━━━━━━━━━━━━━━━\u001b[0m\u001b[37m\u001b[0m \u001b[1m11s\u001b[0m 21ms/step - accuracy: 0.9919 - loss: 0.0851 - val_accuracy: 0.9871 - val_loss: 0.1089 - learning_rate: 5.0000e-04\n",
      "Epoch 8/50\n",
      "\u001b[1m523/523\u001b[0m \u001b[32m━━━━━━━━━━━━━━━━━━━━\u001b[0m\u001b[37m\u001b[0m \u001b[1m11s\u001b[0m 22ms/step - accuracy: 0.9928 - loss: 0.0795 - val_accuracy: 0.9877 - val_loss: 0.1030 - learning_rate: 5.0000e-04\n",
      "Epoch 9/50\n",
      "\u001b[1m523/523\u001b[0m \u001b[32m━━━━━━━━━━━━━━━━━━━━\u001b[0m\u001b[37m\u001b[0m \u001b[1m11s\u001b[0m 21ms/step - accuracy: 0.9932 - loss: 0.0736 - val_accuracy: 0.9859 - val_loss: 0.1098 - learning_rate: 5.0000e-04\n",
      "Epoch 10/50\n",
      "\u001b[1m523/523\u001b[0m \u001b[32m━━━━━━━━━━━━━━━━━━━━\u001b[0m\u001b[37m\u001b[0m \u001b[1m11s\u001b[0m 21ms/step - accuracy: 0.9923 - loss: 0.0771 - val_accuracy: 0.9876 - val_loss: 0.1039 - learning_rate: 5.0000e-04\n",
      "Epoch 11/50\n",
      "\u001b[1m522/523\u001b[0m \u001b[32m━━━━━━━━━━━━━━━━━━━\u001b[0m\u001b[37m━\u001b[0m \u001b[1m0s\u001b[0m 20ms/step - accuracy: 0.9936 - loss: 0.0696\n",
      "Epoch 11: ReduceLROnPlateau reducing learning rate to 0.0002500000118743628.\n",
      "\u001b[1m523/523\u001b[0m \u001b[32m━━━━━━━━━━━━━━━━━━━━\u001b[0m\u001b[37m\u001b[0m \u001b[1m11s\u001b[0m 22ms/step - accuracy: 0.9936 - loss: 0.0696 - val_accuracy: 0.9857 - val_loss: 0.1066 - learning_rate: 5.0000e-04\n",
      "Epoch 12/50\n",
      "\u001b[1m523/523\u001b[0m \u001b[32m━━━━━━━━━━━━━━━━━━━━\u001b[0m\u001b[37m\u001b[0m \u001b[1m11s\u001b[0m 21ms/step - accuracy: 0.9935 - loss: 0.0660 - val_accuracy: 0.9889 - val_loss: 0.0927 - learning_rate: 2.5000e-04\n",
      "Epoch 13/50\n",
      "\u001b[1m523/523\u001b[0m \u001b[32m━━━━━━━━━━━━━━━━━━━━\u001b[0m\u001b[37m\u001b[0m \u001b[1m11s\u001b[0m 22ms/step - accuracy: 0.9956 - loss: 0.0550 - val_accuracy: 0.9884 - val_loss: 0.0891 - learning_rate: 2.5000e-04\n",
      "Epoch 14/50\n",
      "\u001b[1m523/523\u001b[0m \u001b[32m━━━━━━━━━━━━━━━━━━━━\u001b[0m\u001b[37m\u001b[0m \u001b[1m21s\u001b[0m 22ms/step - accuracy: 0.9958 - loss: 0.0502 - val_accuracy: 0.9899 - val_loss: 0.0864 - learning_rate: 2.5000e-04\n",
      "Epoch 15/50\n",
      "\u001b[1m523/523\u001b[0m \u001b[32m━━━━━━━━━━━━━━━━━━━━\u001b[0m\u001b[37m\u001b[0m \u001b[1m12s\u001b[0m 22ms/step - accuracy: 0.9956 - loss: 0.0471 - val_accuracy: 0.9889 - val_loss: 0.0844 - learning_rate: 2.5000e-04\n",
      "Epoch 16/50\n",
      "\u001b[1m523/523\u001b[0m \u001b[32m━━━━━━━━━━━━━━━━━━━━\u001b[0m\u001b[37m\u001b[0m \u001b[1m12s\u001b[0m 22ms/step - accuracy: 0.9954 - loss: 0.0447 - val_accuracy: 0.9890 - val_loss: 0.0836 - learning_rate: 2.5000e-04\n",
      "Epoch 17/50\n",
      "\u001b[1m523/523\u001b[0m \u001b[32m━━━━━━━━━━━━━━━━━━━━\u001b[0m\u001b[37m\u001b[0m \u001b[1m12s\u001b[0m 22ms/step - accuracy: 0.9950 - loss: 0.0444 - val_accuracy: 0.9894 - val_loss: 0.0814 - learning_rate: 2.5000e-04\n",
      "Epoch 18/50\n",
      "\u001b[1m523/523\u001b[0m \u001b[32m━━━━━━━━━━━━━━━━━━━━\u001b[0m\u001b[37m\u001b[0m \u001b[1m11s\u001b[0m 22ms/step - accuracy: 0.9956 - loss: 0.0414 - val_accuracy: 0.9891 - val_loss: 0.0809 - learning_rate: 2.5000e-04\n",
      "Epoch 19/50\n",
      "\u001b[1m523/523\u001b[0m \u001b[32m━━━━━━━━━━━━━━━━━━━━\u001b[0m\u001b[37m\u001b[0m \u001b[1m12s\u001b[0m 23ms/step - accuracy: 0.9955 - loss: 0.0396 - val_accuracy: 0.9889 - val_loss: 0.0813 - learning_rate: 2.5000e-04\n",
      "Epoch 20/50\n",
      "\u001b[1m523/523\u001b[0m \u001b[32m━━━━━━━━━━━━━━━━━━━━\u001b[0m\u001b[37m\u001b[0m \u001b[1m12s\u001b[0m 23ms/step - accuracy: 0.9954 - loss: 0.0395 - val_accuracy: 0.9890 - val_loss: 0.0787 - learning_rate: 2.5000e-04\n",
      "Epoch 21/50\n",
      "\u001b[1m523/523\u001b[0m \u001b[32m━━━━━━━━━━━━━━━━━━━━\u001b[0m\u001b[37m\u001b[0m \u001b[1m13s\u001b[0m 24ms/step - accuracy: 0.9946 - loss: 0.0395 - val_accuracy: 0.9886 - val_loss: 0.0781 - learning_rate: 2.5000e-04\n",
      "Epoch 22/50\n",
      "\u001b[1m523/523\u001b[0m \u001b[32m━━━━━━━━━━━━━━━━━━━━\u001b[0m\u001b[37m\u001b[0m \u001b[1m12s\u001b[0m 23ms/step - accuracy: 0.9956 - loss: 0.0390 - val_accuracy: 0.9893 - val_loss: 0.0794 - learning_rate: 2.5000e-04\n",
      "Epoch 23/50\n",
      "\u001b[1m523/523\u001b[0m \u001b[32m━━━━━━━━━━━━━━━━━━━━\u001b[0m\u001b[37m\u001b[0m \u001b[1m12s\u001b[0m 22ms/step - accuracy: 0.9955 - loss: 0.0369 - val_accuracy: 0.9887 - val_loss: 0.0761 - learning_rate: 2.5000e-04\n",
      "Epoch 24/50\n",
      "\u001b[1m523/523\u001b[0m \u001b[32m━━━━━━━━━━━━━━━━━━━━\u001b[0m\u001b[37m\u001b[0m \u001b[1m11s\u001b[0m 21ms/step - accuracy: 0.9953 - loss: 0.0373 - val_accuracy: 0.9893 - val_loss: 0.0744 - learning_rate: 2.5000e-04\n",
      "Epoch 25/50\n",
      "\u001b[1m523/523\u001b[0m \u001b[32m━━━━━━━━━━━━━━━━━━━━\u001b[0m\u001b[37m\u001b[0m \u001b[1m12s\u001b[0m 23ms/step - accuracy: 0.9956 - loss: 0.0357 - val_accuracy: 0.9891 - val_loss: 0.0744 - learning_rate: 2.5000e-04\n",
      "Epoch 26/50\n",
      "\u001b[1m523/523\u001b[0m \u001b[32m━━━━━━━━━━━━━━━━━━━━\u001b[0m\u001b[37m\u001b[0m \u001b[1m11s\u001b[0m 22ms/step - accuracy: 0.9950 - loss: 0.0354 - val_accuracy: 0.9890 - val_loss: 0.0749 - learning_rate: 2.5000e-04\n",
      "Epoch 27/50\n",
      "\u001b[1m522/523\u001b[0m \u001b[32m━━━━━━━━━━━━━━━━━━━\u001b[0m\u001b[37m━\u001b[0m \u001b[1m0s\u001b[0m 21ms/step - accuracy: 0.9958 - loss: 0.0336\n",
      "Epoch 27: ReduceLROnPlateau reducing learning rate to 0.0001250000059371814.\n",
      "\u001b[1m523/523\u001b[0m \u001b[32m━━━━━━━━━━━━━━━━━━━━\u001b[0m\u001b[37m\u001b[0m \u001b[1m12s\u001b[0m 22ms/step - accuracy: 0.9958 - loss: 0.0336 - val_accuracy: 0.9887 - val_loss: 0.0779 - learning_rate: 2.5000e-04\n",
      "Epoch 28/50\n",
      "\u001b[1m523/523\u001b[0m \u001b[32m━━━━━━━━━━━━━━━━━━━━\u001b[0m\u001b[37m\u001b[0m \u001b[1m13s\u001b[0m 25ms/step - accuracy: 0.9960 - loss: 0.0320 - val_accuracy: 0.9895 - val_loss: 0.0734 - learning_rate: 1.2500e-04\n",
      "Epoch 29/50\n",
      "\u001b[1m523/523\u001b[0m \u001b[32m━━━━━━━━━━━━━━━━━━━━\u001b[0m\u001b[37m\u001b[0m \u001b[1m12s\u001b[0m 22ms/step - accuracy: 0.9969 - loss: 0.0288 - val_accuracy: 0.9899 - val_loss: 0.0713 - learning_rate: 1.2500e-04\n",
      "Epoch 30/50\n",
      "\u001b[1m523/523\u001b[0m \u001b[32m━━━━━━━━━━━━━━━━━━━━\u001b[0m\u001b[37m\u001b[0m \u001b[1m12s\u001b[0m 22ms/step - accuracy: 0.9965 - loss: 0.0272 - val_accuracy: 0.9893 - val_loss: 0.0708 - learning_rate: 1.2500e-04\n",
      "Epoch 31/50\n",
      "\u001b[1m523/523\u001b[0m \u001b[32m━━━━━━━━━━━━━━━━━━━━\u001b[0m\u001b[37m\u001b[0m \u001b[1m11s\u001b[0m 22ms/step - accuracy: 0.9965 - loss: 0.0264 - val_accuracy: 0.9895 - val_loss: 0.0686 - learning_rate: 1.2500e-04\n",
      "Epoch 32/50\n",
      "\u001b[1m523/523\u001b[0m \u001b[32m━━━━━━━━━━━━━━━━━━━━\u001b[0m\u001b[37m\u001b[0m \u001b[1m12s\u001b[0m 23ms/step - accuracy: 0.9965 - loss: 0.0256 - val_accuracy: 0.9890 - val_loss: 0.0700 - learning_rate: 1.2500e-04\n",
      "Epoch 33/50\n",
      "\u001b[1m523/523\u001b[0m \u001b[32m━━━━━━━━━━━━━━━━━━━━\u001b[0m\u001b[37m\u001b[0m \u001b[1m12s\u001b[0m 23ms/step - accuracy: 0.9965 - loss: 0.0248 - val_accuracy: 0.9899 - val_loss: 0.0683 - learning_rate: 1.2500e-04\n",
      "Epoch 34/50\n",
      "\u001b[1m523/523\u001b[0m \u001b[32m━━━━━━━━━━━━━━━━━━━━\u001b[0m\u001b[37m\u001b[0m \u001b[1m13s\u001b[0m 24ms/step - accuracy: 0.9963 - loss: 0.0243 - val_accuracy: 0.9893 - val_loss: 0.0702 - learning_rate: 1.2500e-04\n",
      "Epoch 35/50\n",
      "\u001b[1m523/523\u001b[0m \u001b[32m━━━━━━━━━━━━━━━━━━━━\u001b[0m\u001b[37m\u001b[0m \u001b[1m13s\u001b[0m 26ms/step - accuracy: 0.9967 - loss: 0.0235 - val_accuracy: 0.9893 - val_loss: 0.0655 - learning_rate: 1.2500e-04\n",
      "Epoch 36/50\n",
      "\u001b[1m523/523\u001b[0m \u001b[32m━━━━━━━━━━━━━━━━━━━━\u001b[0m\u001b[37m\u001b[0m \u001b[1m12s\u001b[0m 23ms/step - accuracy: 0.9964 - loss: 0.0232 - val_accuracy: 0.9901 - val_loss: 0.0668 - learning_rate: 1.2500e-04\n",
      "Epoch 37/50\n",
      "\u001b[1m523/523\u001b[0m \u001b[32m━━━━━━━━━━━━━━━━━━━━\u001b[0m\u001b[37m\u001b[0m \u001b[1m12s\u001b[0m 22ms/step - accuracy: 0.9967 - loss: 0.0219 - val_accuracy: 0.9903 - val_loss: 0.0664 - learning_rate: 1.2500e-04\n",
      "Epoch 38/50\n",
      "\u001b[1m523/523\u001b[0m \u001b[32m━━━━━━━━━━━━━━━━━━━━\u001b[0m\u001b[37m\u001b[0m \u001b[1m11s\u001b[0m 21ms/step - accuracy: 0.9964 - loss: 0.0220 - val_accuracy: 0.9899 - val_loss: 0.0651 - learning_rate: 1.2500e-04\n",
      "Epoch 39/50\n",
      "\u001b[1m523/523\u001b[0m \u001b[32m━━━━━━━━━━━━━━━━━━━━\u001b[0m\u001b[37m\u001b[0m \u001b[1m11s\u001b[0m 21ms/step - accuracy: 0.9965 - loss: 0.0216 - val_accuracy: 0.9895 - val_loss: 0.0656 - learning_rate: 1.2500e-04\n",
      "Epoch 40/50\n",
      "\u001b[1m523/523\u001b[0m \u001b[32m━━━━━━━━━━━━━━━━━━━━\u001b[0m\u001b[37m\u001b[0m \u001b[1m11s\u001b[0m 21ms/step - accuracy: 0.9970 - loss: 0.0204 - val_accuracy: 0.9891 - val_loss: 0.0655 - learning_rate: 1.2500e-04\n",
      "Epoch 41/50\n",
      "\u001b[1m522/523\u001b[0m \u001b[32m━━━━━━━━━━━━━━━━━━━\u001b[0m\u001b[37m━\u001b[0m \u001b[1m0s\u001b[0m 19ms/step - accuracy: 0.9964 - loss: 0.0221\n",
      "Epoch 41: ReduceLROnPlateau reducing learning rate to 6.25000029685907e-05.\n",
      "\u001b[1m523/523\u001b[0m \u001b[32m━━━━━━━━━━━━━━━━━━━━\u001b[0m\u001b[37m\u001b[0m \u001b[1m11s\u001b[0m 21ms/step - accuracy: 0.9964 - loss: 0.0221 - val_accuracy: 0.9893 - val_loss: 0.0653 - learning_rate: 1.2500e-04\n",
      "Epoch 42/50\n",
      "\u001b[1m523/523\u001b[0m \u001b[32m━━━━━━━━━━━━━━━━━━━━\u001b[0m\u001b[37m\u001b[0m \u001b[1m11s\u001b[0m 21ms/step - accuracy: 0.9962 - loss: 0.0204 - val_accuracy: 0.9899 - val_loss: 0.0636 - learning_rate: 6.2500e-05\n",
      "Epoch 43/50\n",
      "\u001b[1m523/523\u001b[0m \u001b[32m━━━━━━━━━━━━━━━━━━━━\u001b[0m\u001b[37m\u001b[0m \u001b[1m12s\u001b[0m 23ms/step - accuracy: 0.9970 - loss: 0.0186 - val_accuracy: 0.9897 - val_loss: 0.0644 - learning_rate: 6.2500e-05\n",
      "Epoch 44/50\n",
      "\u001b[1m523/523\u001b[0m \u001b[32m━━━━━━━━━━━━━━━━━━━━\u001b[0m\u001b[37m\u001b[0m \u001b[1m15s\u001b[0m 28ms/step - accuracy: 0.9971 - loss: 0.0180 - val_accuracy: 0.9900 - val_loss: 0.0628 - learning_rate: 6.2500e-05\n",
      "Epoch 45/50\n",
      "\u001b[1m523/523\u001b[0m \u001b[32m━━━━━━━━━━━━━━━━━━━━\u001b[0m\u001b[37m\u001b[0m \u001b[1m12s\u001b[0m 23ms/step - accuracy: 0.9974 - loss: 0.0174 - val_accuracy: 0.9895 - val_loss: 0.0625 - learning_rate: 6.2500e-05\n",
      "Epoch 46/50\n",
      "\u001b[1m523/523\u001b[0m \u001b[32m━━━━━━━━━━━━━━━━━━━━\u001b[0m\u001b[37m\u001b[0m \u001b[1m13s\u001b[0m 24ms/step - accuracy: 0.9969 - loss: 0.0175 - val_accuracy: 0.9897 - val_loss: 0.0621 - learning_rate: 6.2500e-05\n",
      "Epoch 47/50\n",
      "\u001b[1m523/523\u001b[0m \u001b[32m━━━━━━━━━━━━━━━━━━━━\u001b[0m\u001b[37m\u001b[0m \u001b[1m13s\u001b[0m 24ms/step - accuracy: 0.9970 - loss: 0.0170 - val_accuracy: 0.9899 - val_loss: 0.0619 - learning_rate: 6.2500e-05\n",
      "Epoch 48/50\n",
      "\u001b[1m523/523\u001b[0m \u001b[32m━━━━━━━━━━━━━━━━━━━━\u001b[0m\u001b[37m\u001b[0m \u001b[1m14s\u001b[0m 26ms/step - accuracy: 0.9968 - loss: 0.0175 - val_accuracy: 0.9894 - val_loss: 0.0623 - learning_rate: 6.2500e-05\n",
      "Epoch 49/50\n",
      "\u001b[1m523/523\u001b[0m \u001b[32m━━━━━━━━━━━━━━━━━━━━\u001b[0m\u001b[37m\u001b[0m \u001b[1m13s\u001b[0m 25ms/step - accuracy: 0.9970 - loss: 0.0169 - val_accuracy: 0.9904 - val_loss: 0.0625 - learning_rate: 6.2500e-05\n",
      "Epoch 50/50\n",
      "\u001b[1m523/523\u001b[0m \u001b[32m━━━━━━━━━━━━━━━━━━━━\u001b[0m\u001b[37m\u001b[0m \u001b[1m12s\u001b[0m 24ms/step - accuracy: 0.9975 - loss: 0.0159 - val_accuracy: 0.9901 - val_loss: 0.0597 - learning_rate: 6.2500e-05\n"
     ]
    },
    {
     "data": {
      "text/plain": [
       "<keras.src.callbacks.history.History at 0x301671d30>"
      ]
     },
     "execution_count": 33,
     "metadata": {},
     "output_type": "execute_result"
    }
   ],
   "source": [
    "import tensorflow as tf\n",
    "from tensorflow import keras\n",
    "\n",
    "num_classes = len(set(y_train))  \n",
    "\n",
    "\n",
    "# Define the model\n",
    "model = keras.Sequential([\n",
    "    keras.layers.Dense(512, activation='relu', kernel_regularizer=keras.regularizers.l2(0.0001), input_shape=(X_train.shape[1],)),\n",
    "    keras.layers.BatchNormalization(),\n",
    "    keras.layers.Dropout(0.3),\n",
    "\n",
    "    keras.layers.Dense(256, activation='relu', kernel_regularizer=keras.regularizers.l2(0.0001)),\n",
    "    keras.layers.BatchNormalization(),\n",
    "    keras.layers.Dropout(0.25),\n",
    "\n",
    "    keras.layers.Dense(128, activation='relu', kernel_regularizer=keras.regularizers.l2(0.0001)),\n",
    "    keras.layers.BatchNormalization(),\n",
    "    keras.layers.Dropout(0.2),\n",
    "\n",
    "    keras.layers.Dense(num_classes, activation='softmax')  \n",
    "])\n",
    "\n",
    "\n",
    "optimizer = keras.optimizers.AdamW(learning_rate=0.0005, weight_decay=0.01)\n",
    "\n",
    "\n",
    "model.compile(optimizer=optimizer, loss='sparse_categorical_crossentropy', metrics=['accuracy'])\n",
    "\n",
    "\n",
    "early_stopping = keras.callbacks.EarlyStopping(monitor='val_loss', patience=7, restore_best_weights=True)\n",
    "reduce_lr = keras.callbacks.ReduceLROnPlateau(monitor='val_loss', factor=0.5, patience=3, min_lr=1e-6, verbose=1)\n",
    "\n",
    "\n",
    "model.fit(X_train, y_train, epochs=50, batch_size=128, validation_data=(X_validat, y_validat), callbacks=[early_stopping, reduce_lr])\n"
   ]
  },
  {
   "cell_type": "code",
   "execution_count": 34,
   "metadata": {},
   "outputs": [
    {
     "name": "stdout",
     "output_type": "stream",
     "text": [
      "\u001b[1m2090/2090\u001b[0m \u001b[32m━━━━━━━━━━━━━━━━━━━━\u001b[0m\u001b[37m\u001b[0m \u001b[1m7s\u001b[0m 3ms/step - accuracy: 0.9972 - loss: 0.0147\n",
      "Train Accuracy: 0.9972\n",
      "\u001b[1m523/523\u001b[0m \u001b[32m━━━━━━━━━━━━━━━━━━━━\u001b[0m\u001b[37m\u001b[0m \u001b[1m3s\u001b[0m 5ms/step - accuracy: 0.9897 - loss: 0.0612\n",
      "Test Accuracy: 0.9901\n"
     ]
    }
   ],
   "source": [
    "train_loss, train_acc = model.evaluate(X_train, y_train)\n",
    "print(f\"Train Accuracy: {train_acc:.4f}\")\n",
    "\n",
    "validation_loss, validation_acc = model.evaluate(X_validat, y_validat)\n",
    "print(f\"Test Accuracy: {validation_acc:.4f}\")"
   ]
  },
  {
   "cell_type": "code",
   "execution_count": 40,
   "metadata": {},
   "outputs": [
    {
     "name": "stdout",
     "output_type": "stream",
     "text": [
      "\u001b[1m2090/2090\u001b[0m \u001b[32m━━━━━━━━━━━━━━━━━━━━\u001b[0m\u001b[37m\u001b[0m \u001b[1m5s\u001b[0m 2ms/step\n"
     ]
    },
    {
     "data": {
      "text/html": [
       "<div>\n",
       "<style scoped>\n",
       "    .dataframe tbody tr th:only-of-type {\n",
       "        vertical-align: middle;\n",
       "    }\n",
       "\n",
       "    .dataframe tbody tr th {\n",
       "        vertical-align: top;\n",
       "    }\n",
       "\n",
       "    .dataframe thead th {\n",
       "        text-align: right;\n",
       "    }\n",
       "</style>\n",
       "<table border=\"1\" class=\"dataframe\">\n",
       "  <thead>\n",
       "    <tr style=\"text-align: right;\">\n",
       "      <th></th>\n",
       "      <th>Predicted</th>\n",
       "      <th>Confidence</th>\n",
       "    </tr>\n",
       "  </thead>\n",
       "  <tbody>\n",
       "    <tr>\n",
       "      <th>0</th>\n",
       "      <td>1312</td>\n",
       "      <td>1.00</td>\n",
       "    </tr>\n",
       "    <tr>\n",
       "      <th>1</th>\n",
       "      <td>4743</td>\n",
       "      <td>1.00</td>\n",
       "    </tr>\n",
       "    <tr>\n",
       "      <th>2</th>\n",
       "      <td>2517</td>\n",
       "      <td>1.00</td>\n",
       "    </tr>\n",
       "    <tr>\n",
       "      <th>3</th>\n",
       "      <td>2374</td>\n",
       "      <td>1.00</td>\n",
       "    </tr>\n",
       "    <tr>\n",
       "      <th>4</th>\n",
       "      <td>639</td>\n",
       "      <td>1.00</td>\n",
       "    </tr>\n",
       "  </tbody>\n",
       "</table>\n",
       "</div>"
      ],
      "text/plain": [
       "  Predicted Confidence\n",
       "0      1312       1.00\n",
       "1      4743       1.00\n",
       "2      2517       1.00\n",
       "3      2374       1.00\n",
       "4       639       1.00"
      ]
     },
     "execution_count": 40,
     "metadata": {},
     "output_type": "execute_result"
    }
   ],
   "source": [
    "probabilities = model.predict(X_test)\n",
    "\n",
    "confidence_scores = np.max(probabilities, axis=1)\n",
    "\n",
    "predicted_indices = np.argmax(probabilities, axis=1)\n",
    "\n",
    "predicted_labels = le.inverse_transform(predicted_indices)\n",
    "\n",
    "confidence_threshold = 0.75\n",
    "\n",
    "test_results = []\n",
    "\n",
    "for i in range(len(X_test)):\n",
    "    confidence = confidence_scores[i]\n",
    "    predicted_class = predicted_labels[i]\n",
    "\n",
    "    if confidence < confidence_threshold:\n",
    "        predicted_class = \"Unknown\"\n",
    "\n",
    "    test_results.append({\n",
    "        'Predicted': predicted_class,\n",
    "        'Confidence': f\"{confidence:.2f}\"\n",
    "    })\n",
    "\n",
    "temp_df = pd.DataFrame(test_results)\n",
    "\n",
    "temp_df.head()\n"
   ]
  },
  {
   "cell_type": "code",
   "execution_count": 41,
   "metadata": {},
   "outputs": [],
   "source": [
    "predicted_df = test_df"
   ]
  },
  {
   "cell_type": "code",
   "execution_count": 42,
   "metadata": {},
   "outputs": [
    {
     "data": {
      "text/plain": [
       "66849"
      ]
     },
     "execution_count": 42,
     "metadata": {},
     "output_type": "execute_result"
    }
   ],
   "source": [
    "len(predicted_df) "
   ]
  },
  {
   "cell_type": "code",
   "execution_count": 43,
   "metadata": {},
   "outputs": [
    {
     "data": {
      "text/plain": [
       "66849"
      ]
     },
     "execution_count": 43,
     "metadata": {},
     "output_type": "execute_result"
    }
   ],
   "source": [
    "len(temp_df) "
   ]
  },
  {
   "cell_type": "code",
   "execution_count": 44,
   "metadata": {},
   "outputs": [
    {
     "data": {
      "text/html": [
       "<div>\n",
       "<style scoped>\n",
       "    .dataframe tbody tr th:only-of-type {\n",
       "        vertical-align: middle;\n",
       "    }\n",
       "\n",
       "    .dataframe tbody tr th {\n",
       "        vertical-align: top;\n",
       "    }\n",
       "\n",
       "    .dataframe thead th {\n",
       "        text-align: right;\n",
       "    }\n",
       "</style>\n",
       "<table border=\"1\" class=\"dataframe\">\n",
       "  <thead>\n",
       "    <tr style=\"text-align: right;\">\n",
       "      <th></th>\n",
       "      <th>seller_item_name</th>\n",
       "      <th>price</th>\n",
       "      <th>Predicted</th>\n",
       "      <th>Confidence</th>\n",
       "    </tr>\n",
       "  </thead>\n",
       "  <tbody>\n",
       "    <tr>\n",
       "      <th>0</th>\n",
       "      <td>موزابرايد 5 مجم ق 3 ش/ويسترن</td>\n",
       "      <td>91.5</td>\n",
       "      <td>1312</td>\n",
       "      <td>1.00</td>\n",
       "    </tr>\n",
       "    <tr>\n",
       "      <th>1</th>\n",
       "      <td>ميكروسرك 16 اقراص</td>\n",
       "      <td>29.0</td>\n",
       "      <td>4743</td>\n",
       "      <td>1.00</td>\n",
       "    </tr>\n",
       "    <tr>\n",
       "      <th>2</th>\n",
       "      <td>البافيت كالسيوم شراب</td>\n",
       "      <td>26.0</td>\n",
       "      <td>2517</td>\n",
       "      <td>1.00</td>\n",
       "    </tr>\n",
       "    <tr>\n",
       "      <th>3</th>\n",
       "      <td>زيستريل 20 مجم اقراص</td>\n",
       "      <td>52.0</td>\n",
       "      <td>2374</td>\n",
       "      <td>1.00</td>\n",
       "    </tr>\n",
       "    <tr>\n",
       "      <th>4</th>\n",
       "      <td>اتور 10مجم اقراص</td>\n",
       "      <td>33.0</td>\n",
       "      <td>639</td>\n",
       "      <td>1.00</td>\n",
       "    </tr>\n",
       "  </tbody>\n",
       "</table>\n",
       "</div>"
      ],
      "text/plain": [
       "               seller_item_name  price Predicted Confidence\n",
       "0  موزابرايد 5 مجم ق 3 ش/ويسترن   91.5      1312       1.00\n",
       "1             ميكروسرك 16 اقراص   29.0      4743       1.00\n",
       "2         البافيت كالسيوم شراب    26.0      2517       1.00\n",
       "3         زيستريل 20 مجم اقراص    52.0      2374       1.00\n",
       "4              اتور 10مجم اقراص   33.0       639       1.00"
      ]
     },
     "execution_count": 44,
     "metadata": {},
     "output_type": "execute_result"
    }
   ],
   "source": [
    "predicted_df['Predicted'] = temp_df['Predicted'].values\n",
    "predicted_df['Confidence'] = temp_df['Confidence'].values\n",
    "predicted_df.head()"
   ]
  },
  {
   "cell_type": "code",
   "execution_count": 57,
   "metadata": {},
   "outputs": [],
   "source": [
    "predicted_df.to_csv('predicted.csv', index=False, encoding='utf-8-sig')"
   ]
  },
  {
   "cell_type": "code",
   "execution_count": 39,
   "metadata": {},
   "outputs": [
    {
     "name": "stderr",
     "output_type": "stream",
     "text": [
      "/opt/anaconda3/lib/python3.12/site-packages/keras/src/layers/core/dense.py:87: UserWarning: Do not pass an `input_shape`/`input_dim` argument to a layer. When using Sequential models, prefer using an `Input(shape)` object as the first layer in the model instead.\n",
      "  super().__init__(activity_regularizer=activity_regularizer, **kwargs)\n",
      "/opt/anaconda3/lib/python3.12/site-packages/keras/src/layers/activations/leaky_relu.py:41: UserWarning: Argument `alpha` is deprecated. Use `negative_slope` instead.\n",
      "  warnings.warn(\n"
     ]
    },
    {
     "ename": "NameError",
     "evalue": "name 'y_test' is not defined",
     "output_type": "error",
     "traceback": [
      "\u001b[0;31m---------------------------------------------------------------------------\u001b[0m",
      "\u001b[0;31mNameError\u001b[0m                                 Traceback (most recent call last)",
      "Cell \u001b[0;32mIn[39], line 42\u001b[0m\n\u001b[1;32m     37\u001b[0m reduce_lr \u001b[38;5;241m=\u001b[39m keras\u001b[38;5;241m.\u001b[39mcallbacks\u001b[38;5;241m.\u001b[39mReduceLROnPlateau(monitor\u001b[38;5;241m=\u001b[39m\u001b[38;5;124m'\u001b[39m\u001b[38;5;124mval_accuracy\u001b[39m\u001b[38;5;124m'\u001b[39m, factor\u001b[38;5;241m=\u001b[39m\u001b[38;5;241m0.5\u001b[39m, patience\u001b[38;5;241m=\u001b[39m\u001b[38;5;241m3\u001b[39m, min_lr\u001b[38;5;241m=\u001b[39m\u001b[38;5;241m1e-6\u001b[39m, verbose\u001b[38;5;241m=\u001b[39m\u001b[38;5;241m1\u001b[39m, mode\u001b[38;5;241m=\u001b[39m\u001b[38;5;124m'\u001b[39m\u001b[38;5;124mmax\u001b[39m\u001b[38;5;124m'\u001b[39m)\n\u001b[1;32m     39\u001b[0m \u001b[38;5;66;03m# Train the model\u001b[39;00m\n\u001b[1;32m     40\u001b[0m history \u001b[38;5;241m=\u001b[39m model\u001b[38;5;241m.\u001b[39mfit(X_train, y_train, \n\u001b[1;32m     41\u001b[0m                     epochs\u001b[38;5;241m=\u001b[39m\u001b[38;5;241m50\u001b[39m, batch_size\u001b[38;5;241m=\u001b[39m\u001b[38;5;241m128\u001b[39m, \n\u001b[0;32m---> 42\u001b[0m                     validation_data\u001b[38;5;241m=\u001b[39m(X_test, y_test), \n\u001b[1;32m     43\u001b[0m                     callbacks\u001b[38;5;241m=\u001b[39m[early_stopping, reduce_lr])\n",
      "\u001b[0;31mNameError\u001b[0m: name 'y_test' is not defined"
     ]
    }
   ],
   "source": [
    "import tensorflow as tf\n",
    "from tensorflow import keras\n",
    "from tensorflow.keras.layers import Dense, BatchNormalization, Dropout, LeakyReLU\n",
    "\n",
    "num_classes = len(set(y_train))  \n",
    "\n",
    "# Define the model\n",
    "model = keras.Sequential([\n",
    "    Dense(512, kernel_regularizer=keras.regularizers.l2(0.0001), input_shape=(X_train.shape[1],)),\n",
    "    BatchNormalization(),\n",
    "    LeakyReLU(alpha=0.01),  # LeakyReLU instead of ReLU\n",
    "    Dropout(0.3),\n",
    "\n",
    "    Dense(256, kernel_regularizer=keras.regularizers.l2(0.0001)),\n",
    "    BatchNormalization(),\n",
    "    LeakyReLU(alpha=0.01),\n",
    "    Dropout(0.25),\n",
    "\n",
    "    Dense(128, kernel_regularizer=keras.regularizers.l2(0.0001)),\n",
    "    BatchNormalization(),\n",
    "    LeakyReLU(alpha=0.01),\n",
    "    Dropout(0.2),\n",
    "\n",
    "    Dense(num_classes, activation='softmax')  \n",
    "])\n",
    "\n",
    "# Optimizer with weight decay\n",
    "optimizer = keras.optimizers.AdamW(learning_rate=0.0005, weight_decay=0.01)\n",
    "\n",
    "# Compile model\n",
    "model.compile(optimizer=optimizer, loss='sparse_categorical_crossentropy', metrics=['accuracy'])\n",
    "\n",
    "# Improved Early Stopping - Now monitors accuracy instead of loss\n",
    "early_stopping = keras.callbacks.EarlyStopping(monitor='val_accuracy', patience=5, restore_best_weights=True, mode='max')\n",
    "\n",
    "# Learning Rate Reduction\n",
    "reduce_lr = keras.callbacks.ReduceLROnPlateau(monitor='val_accuracy', factor=0.5, patience=3, min_lr=1e-6, verbose=1, mode='max')\n",
    "\n",
    "# Train the model\n",
    "history = model.fit(X_train, y_train, \n",
    "                    epochs=50, batch_size=128, \n",
    "                    validation_data=(X_test, y_test), \n",
    "                    callbacks=[early_stopping, reduce_lr])\n"
   ]
  },
  {
   "cell_type": "code",
   "execution_count": null,
   "metadata": {},
   "outputs": [
    {
     "name": "stdout",
     "output_type": "stream",
     "text": [
      "\u001b[1m2090/2090\u001b[0m \u001b[32m━━━━━━━━━━━━━━━━━━━━\u001b[0m\u001b[37m\u001b[0m \u001b[1m6s\u001b[0m 3ms/step - accuracy: 0.9971 - loss: 0.0433\n",
      "Train Accuracy: 0.9969\n",
      "\u001b[1m523/523\u001b[0m \u001b[32m━━━━━━━━━━━━━━━━━━━━\u001b[0m\u001b[37m\u001b[0m \u001b[1m1s\u001b[0m 3ms/step - accuracy: 0.9896 - loss: 0.0869\n",
      "Test Accuracy: 0.9887\n"
     ]
    }
   ],
   "source": [
    "train_loss, train_acc = model.evaluate(X_train, y_train)\n",
    "print(f\"Train Accuracy: {train_acc:.4f}\")\n",
    "\n",
    "test_loss, test_acc = model.evaluate(X_test, y_test)\n",
    "print(f\"Test Accuracy: {test_acc:.4f}\")"
   ]
  },
  {
   "cell_type": "code",
   "execution_count": 37,
   "metadata": {},
   "outputs": [
    {
     "name": "stdout",
     "output_type": "stream",
     "text": [
      "Epoch 1/50\n",
      "\u001b[1m523/523\u001b[0m \u001b[32m━━━━━━━━━━━━━━━━━━━━\u001b[0m\u001b[37m\u001b[0m \u001b[1m36s\u001b[0m 61ms/step - accuracy: 0.5942 - loss: 3.2873 - val_accuracy: 0.9379 - val_loss: 2.2854 - learning_rate: 5.0000e-04\n",
      "Epoch 2/50\n",
      "\u001b[1m523/523\u001b[0m \u001b[32m━━━━━━━━━━━━━━━━━━━━\u001b[0m\u001b[37m\u001b[0m \u001b[1m32s\u001b[0m 62ms/step - accuracy: 0.9617 - loss: 0.2525 - val_accuracy: 0.9745 - val_loss: 0.1182 - learning_rate: 5.0000e-04\n",
      "Epoch 3/50\n",
      "\u001b[1m523/523\u001b[0m \u001b[32m━━━━━━━━━━━━━━━━━━━━\u001b[0m\u001b[37m\u001b[0m \u001b[1m32s\u001b[0m 61ms/step - accuracy: 0.9785 - loss: 0.1082 - val_accuracy: 0.9762 - val_loss: 0.0944 - learning_rate: 5.0000e-04\n",
      "Epoch 4/50\n",
      "\u001b[1m523/523\u001b[0m \u001b[32m━━━━━━━━━━━━━━━━━━━━\u001b[0m\u001b[37m\u001b[0m \u001b[1m32s\u001b[0m 61ms/step - accuracy: 0.9837 - loss: 0.0721 - val_accuracy: 0.9782 - val_loss: 0.0851 - learning_rate: 5.0000e-04\n",
      "Epoch 5/50\n",
      "\u001b[1m523/523\u001b[0m \u001b[32m━━━━━━━━━━━━━━━━━━━━\u001b[0m\u001b[37m\u001b[0m \u001b[1m32s\u001b[0m 61ms/step - accuracy: 0.9867 - loss: 0.0562 - val_accuracy: 0.9798 - val_loss: 0.0854 - learning_rate: 5.0000e-04\n",
      "Epoch 6/50\n",
      "\u001b[1m523/523\u001b[0m \u001b[32m━━━━━━━━━━━━━━━━━━━━\u001b[0m\u001b[37m\u001b[0m \u001b[1m32s\u001b[0m 62ms/step - accuracy: 0.9885 - loss: 0.0482 - val_accuracy: 0.9798 - val_loss: 0.0782 - learning_rate: 5.0000e-04\n",
      "Epoch 7/50\n",
      "\u001b[1m523/523\u001b[0m \u001b[32m━━━━━━━━━━━━━━━━━━━━\u001b[0m\u001b[37m\u001b[0m \u001b[1m35s\u001b[0m 67ms/step - accuracy: 0.9895 - loss: 0.0428 - val_accuracy: 0.9843 - val_loss: 0.0742 - learning_rate: 5.0000e-04\n",
      "Epoch 8/50\n",
      "\u001b[1m523/523\u001b[0m \u001b[32m━━━━━━━━━━━━━━━━━━━━\u001b[0m\u001b[37m\u001b[0m \u001b[1m31s\u001b[0m 58ms/step - accuracy: 0.9900 - loss: 0.0393 - val_accuracy: 0.9815 - val_loss: 0.0756 - learning_rate: 5.0000e-04\n",
      "Epoch 9/50\n",
      "\u001b[1m523/523\u001b[0m \u001b[32m━━━━━━━━━━━━━━━━━━━━\u001b[0m\u001b[37m\u001b[0m \u001b[1m31s\u001b[0m 60ms/step - accuracy: 0.9896 - loss: 0.0383 - val_accuracy: 0.9819 - val_loss: 0.0722 - learning_rate: 5.0000e-04\n",
      "Epoch 10/50\n",
      "\u001b[1m523/523\u001b[0m \u001b[32m━━━━━━━━━━━━━━━━━━━━\u001b[0m\u001b[37m\u001b[0m \u001b[1m31s\u001b[0m 59ms/step - accuracy: 0.9910 - loss: 0.0343 - val_accuracy: 0.9866 - val_loss: 0.0688 - learning_rate: 5.0000e-04\n",
      "Epoch 11/50\n",
      "\u001b[1m523/523\u001b[0m \u001b[32m━━━━━━━━━━━━━━━━━━━━\u001b[0m\u001b[37m\u001b[0m \u001b[1m32s\u001b[0m 61ms/step - accuracy: 0.9919 - loss: 0.0295 - val_accuracy: 0.9867 - val_loss: 0.0645 - learning_rate: 5.0000e-04\n",
      "Epoch 12/50\n",
      "\u001b[1m523/523\u001b[0m \u001b[32m━━━━━━━━━━━━━━━━━━━━\u001b[0m\u001b[37m\u001b[0m \u001b[1m31s\u001b[0m 60ms/step - accuracy: 0.9923 - loss: 0.0287 - val_accuracy: 0.9855 - val_loss: 0.0658 - learning_rate: 5.0000e-04\n",
      "Epoch 13/50\n",
      "\u001b[1m523/523\u001b[0m \u001b[32m━━━━━━━━━━━━━━━━━━━━\u001b[0m\u001b[37m\u001b[0m \u001b[1m32s\u001b[0m 60ms/step - accuracy: 0.9928 - loss: 0.0249 - val_accuracy: 0.9863 - val_loss: 0.0681 - learning_rate: 5.0000e-04\n",
      "Epoch 14/50\n",
      "\u001b[1m522/523\u001b[0m \u001b[32m━━━━━━━━━━━━━━━━━━━\u001b[0m\u001b[37m━\u001b[0m \u001b[1m0s\u001b[0m 57ms/step - accuracy: 0.9925 - loss: 0.0272\n",
      "Epoch 14: ReduceLROnPlateau reducing learning rate to 0.0002500000118743628.\n",
      "\u001b[1m523/523\u001b[0m \u001b[32m━━━━━━━━━━━━━━━━━━━━\u001b[0m\u001b[37m\u001b[0m \u001b[1m32s\u001b[0m 61ms/step - accuracy: 0.9925 - loss: 0.0272 - val_accuracy: 0.9876 - val_loss: 0.0662 - learning_rate: 5.0000e-04\n",
      "Epoch 15/50\n",
      "\u001b[1m523/523\u001b[0m \u001b[32m━━━━━━━━━━━━━━━━━━━━\u001b[0m\u001b[37m\u001b[0m \u001b[1m31s\u001b[0m 60ms/step - accuracy: 0.9949 - loss: 0.0201 - val_accuracy: 0.9873 - val_loss: 0.0609 - learning_rate: 2.5000e-04\n",
      "Epoch 16/50\n",
      "\u001b[1m523/523\u001b[0m \u001b[32m━━━━━━━━━━━━━━━━━━━━\u001b[0m\u001b[37m\u001b[0m \u001b[1m31s\u001b[0m 60ms/step - accuracy: 0.9956 - loss: 0.0164 - val_accuracy: 0.9877 - val_loss: 0.0619 - learning_rate: 2.5000e-04\n",
      "Epoch 17/50\n",
      "\u001b[1m523/523\u001b[0m \u001b[32m━━━━━━━━━━━━━━━━━━━━\u001b[0m\u001b[37m\u001b[0m \u001b[1m31s\u001b[0m 60ms/step - accuracy: 0.9950 - loss: 0.0166 - val_accuracy: 0.9877 - val_loss: 0.0634 - learning_rate: 2.5000e-04\n",
      "Epoch 18/50\n",
      "\u001b[1m522/523\u001b[0m \u001b[32m━━━━━━━━━━━━━━━━━━━\u001b[0m\u001b[37m━\u001b[0m \u001b[1m0s\u001b[0m 56ms/step - accuracy: 0.9949 - loss: 0.0174\n",
      "Epoch 18: ReduceLROnPlateau reducing learning rate to 0.0001250000059371814.\n",
      "\u001b[1m523/523\u001b[0m \u001b[32m━━━━━━━━━━━━━━━━━━━━\u001b[0m\u001b[37m\u001b[0m \u001b[1m31s\u001b[0m 60ms/step - accuracy: 0.9949 - loss: 0.0174 - val_accuracy: 0.9871 - val_loss: 0.0658 - learning_rate: 2.5000e-04\n",
      "Epoch 19/50\n",
      "\u001b[1m523/523\u001b[0m \u001b[32m━━━━━━━━━━━━━━━━━━━━\u001b[0m\u001b[37m\u001b[0m \u001b[1m31s\u001b[0m 59ms/step - accuracy: 0.9957 - loss: 0.0153 - val_accuracy: 0.9882 - val_loss: 0.0631 - learning_rate: 1.2500e-04\n",
      "Epoch 20/50\n",
      "\u001b[1m523/523\u001b[0m \u001b[32m━━━━━━━━━━━━━━━━━━━━\u001b[0m\u001b[37m\u001b[0m \u001b[1m32s\u001b[0m 61ms/step - accuracy: 0.9962 - loss: 0.0135 - val_accuracy: 0.9885 - val_loss: 0.0632 - learning_rate: 1.2500e-04\n"
     ]
    }
   ],
   "source": [
    "import tensorflow as tf\n",
    "from tensorflow import keras\n",
    "from tensorflow.keras.layers import LSTM, Dense, Bidirectional, Dropout, BatchNormalization\n",
    "\n",
    "num_classes = len(set(y_train))  \n",
    "\n",
    "# Reshape data for LSTM compatibility\n",
    "X_train_reshaped = X_train.reshape((X_train.shape[0], 1, X_train.shape[1]))\n",
    "X_test_reshaped = X_test.reshape((X_test.shape[0], 1, X_test.shape[1]))\n",
    "\n",
    "# Define the RNN model\n",
    "model = keras.Sequential([\n",
    "    Bidirectional(LSTM(256, return_sequences=True, recurrent_dropout=0.3)),  \n",
    "    BatchNormalization(),\n",
    "    Dropout(0.3),\n",
    "    \n",
    "    Bidirectional(LSTM(128, return_sequences=False, recurrent_dropout=0.2)),  \n",
    "    BatchNormalization(),\n",
    "    Dropout(0.2),\n",
    "\n",
    "    Dense(128, activation='relu', kernel_regularizer=keras.regularizers.l2(0.0001)),\n",
    "    BatchNormalization(),\n",
    "    Dropout(0.2),\n",
    "\n",
    "    Dense(num_classes, activation='softmax')  \n",
    "])\n",
    "\n",
    "# Optimizer\n",
    "optimizer = keras.optimizers.AdamW(learning_rate=0.0005, weight_decay=0.005)\n",
    "\n",
    "# Compile the model\n",
    "model.compile(optimizer=optimizer, loss='sparse_categorical_crossentropy', metrics=['accuracy'])\n",
    "\n",
    "# Callbacks\n",
    "early_stopping = keras.callbacks.EarlyStopping(monitor='val_loss', patience=5, restore_best_weights=True)\n",
    "reduce_lr = keras.callbacks.ReduceLROnPlateau(monitor='val_loss', factor=0.5, patience=3, min_lr=1e-6, verbose=1)\n",
    "\n",
    "# Train\n",
    "history = model.fit(X_train_reshaped, y_train, \n",
    "                    epochs=50, batch_size=128, \n",
    "                    validation_data=(X_test_reshaped, y_test), \n",
    "                    callbacks=[early_stopping, reduce_lr])\n"
   ]
  },
  {
   "cell_type": "code",
   "execution_count": 38,
   "metadata": {},
   "outputs": [
    {
     "name": "stdout",
     "output_type": "stream",
     "text": [
      "\u001b[1m2090/2090\u001b[0m \u001b[32m━━━━━━━━━━━━━━━━━━━━\u001b[0m\u001b[37m\u001b[0m \u001b[1m11s\u001b[0m 5ms/step - accuracy: 0.9968 - loss: 0.0132\n",
      "Train Accuracy: 0.9966\n",
      "\u001b[1m523/523\u001b[0m \u001b[32m━━━━━━━━━━━━━━━━━━━━\u001b[0m\u001b[37m\u001b[0m \u001b[1m3s\u001b[0m 6ms/step - accuracy: 0.9879 - loss: 0.0555\n",
      "Test Accuracy: 0.9873\n"
     ]
    }
   ],
   "source": [
    "train_loss, train_acc = model.evaluate(X_train_reshaped, y_train)\n",
    "print(f\"Train Accuracy: {train_acc:.4f}\")\n",
    "\n",
    "test_loss, test_acc = model.evaluate(X_test_reshaped, y_test)\n",
    "print(f\"Test Accuracy: {test_acc:.4f}\")"
   ]
  }
 ],
 "metadata": {
  "kernelspec": {
   "display_name": "Python 3 (ipykernel)",
   "language": "python",
   "name": "python3"
  },
  "language_info": {
   "codemirror_mode": {
    "name": "ipython",
    "version": 3
   },
   "file_extension": ".py",
   "mimetype": "text/x-python",
   "name": "python",
   "nbconvert_exporter": "python",
   "pygments_lexer": "ipython3",
   "version": "3.12.4"
  }
 },
 "nbformat": 4,
 "nbformat_minor": 2
}
