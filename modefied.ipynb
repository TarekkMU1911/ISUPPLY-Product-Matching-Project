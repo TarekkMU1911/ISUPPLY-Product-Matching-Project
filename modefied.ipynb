{
 "cells": [
  {
   "cell_type": "markdown",
   "metadata": {},
   "source": [
    "## Importing Libraries"
   ]
  },
  {
   "cell_type": "code",
   "execution_count": 1,
   "metadata": {},
   "outputs": [],
   "source": [
    "import numpy as np\n",
    "import pandas as pd\n",
    "import re\n",
    "import xgboost as xgb\n",
    "from sklearn.metrics import confusion_matrix, accuracy_score\n",
    "from sklearn.model_selection import train_test_split\n",
    "from sklearn.feature_extraction.text import TfidfVectorizer\n",
    "from sklearn.feature_extraction.text import CountVectorizer\n",
    "from sklearn.preprocessing import LabelEncoder\n",
    "import tensorflow as tf\n",
    "from tensorflow import keras\n",
    "from tensorflow.keras.layers import Embedding, LSTM, Dense, Dropout\n",
    "from sklearn.preprocessing import StandardScaler\n",
    "from scipy.sparse import csr_matrix\n",
    "import scipy\n",
    "import re\n",
    "import nltk\n",
    "from nltk.corpus import stopwords\n",
    "\n",
    "\n"
   ]
  },
  {
   "cell_type": "markdown",
   "metadata": {},
   "source": [
    "## Reading the DataSet"
   ]
  },
  {
   "cell_type": "code",
   "execution_count": 2,
   "metadata": {},
   "outputs": [
    {
     "data": {
      "text/html": [
       "<div>\n",
       "<style scoped>\n",
       "    .dataframe tbody tr th:only-of-type {\n",
       "        vertical-align: middle;\n",
       "    }\n",
       "\n",
       "    .dataframe tbody tr th {\n",
       "        vertical-align: top;\n",
       "    }\n",
       "\n",
       "    .dataframe thead th {\n",
       "        text-align: right;\n",
       "    }\n",
       "</style>\n",
       "<table border=\"1\" class=\"dataframe\">\n",
       "  <thead>\n",
       "    <tr style=\"text-align: right;\">\n",
       "      <th></th>\n",
       "      <th>sku</th>\n",
       "      <th>marketplace_product_name_ar</th>\n",
       "      <th>seller_item_name</th>\n",
       "      <th>price</th>\n",
       "    </tr>\n",
       "  </thead>\n",
       "  <tbody>\n",
       "    <tr>\n",
       "      <th>0</th>\n",
       "      <td>1322</td>\n",
       "      <td>استوهالت 40 مجم 14 كبسول</td>\n",
       "      <td>ESTOHALT 40 MG 14 CAP</td>\n",
       "      <td>56.5</td>\n",
       "    </tr>\n",
       "    <tr>\n",
       "      <th>1</th>\n",
       "      <td>1322</td>\n",
       "      <td>استوهالت 40 مجم 14 كبسول</td>\n",
       "      <td>استوهالت 40 مجم 14 ك</td>\n",
       "      <td>56.5</td>\n",
       "    </tr>\n",
       "    <tr>\n",
       "      <th>2</th>\n",
       "      <td>1322</td>\n",
       "      <td>استوهالت 40 مجم 14 كبسول</td>\n",
       "      <td>استوهالت 40 مجم 14 ك</td>\n",
       "      <td>56.5</td>\n",
       "    </tr>\n",
       "    <tr>\n",
       "      <th>3</th>\n",
       "      <td>1322</td>\n",
       "      <td>استوهالت 40 مجم 14 كبسول</td>\n",
       "      <td>استوهالت 40 مجم 14 ك</td>\n",
       "      <td>56.5</td>\n",
       "    </tr>\n",
       "    <tr>\n",
       "      <th>4</th>\n",
       "      <td>1322</td>\n",
       "      <td>استوهالت 40 مجم 14 كبسول</td>\n",
       "      <td>استوهالت 40 مجم 14 ك</td>\n",
       "      <td>56.5</td>\n",
       "    </tr>\n",
       "  </tbody>\n",
       "</table>\n",
       "</div>"
      ],
      "text/plain": [
       "    sku marketplace_product_name_ar       seller_item_name  price\n",
       "0  1322    استوهالت 40 مجم 14 كبسول  ESTOHALT 40 MG 14 CAP   56.5\n",
       "1  1322    استوهالت 40 مجم 14 كبسول   استوهالت 40 مجم 14 ك   56.5\n",
       "2  1322    استوهالت 40 مجم 14 كبسول   استوهالت 40 مجم 14 ك   56.5\n",
       "3  1322    استوهالت 40 مجم 14 كبسول   استوهالت 40 مجم 14 ك   56.5\n",
       "4  1322    استوهالت 40 مجم 14 كبسول   استوهالت 40 مجم 14 ك   56.5"
      ]
     },
     "execution_count": 2,
     "metadata": {},
     "output_type": "execute_result"
    }
   ],
   "source": [
    "df = pd.read_excel(\"Product Matching Dataset.xlsx\" , sheet_name=\"Dataset\")  \n",
    "df.head()"
   ]
  },
  {
   "cell_type": "code",
   "execution_count": 3,
   "metadata": {},
   "outputs": [
    {
     "data": {
      "text/html": [
       "<div>\n",
       "<style scoped>\n",
       "    .dataframe tbody tr th:only-of-type {\n",
       "        vertical-align: middle;\n",
       "    }\n",
       "\n",
       "    .dataframe tbody tr th {\n",
       "        vertical-align: top;\n",
       "    }\n",
       "\n",
       "    .dataframe thead th {\n",
       "        text-align: right;\n",
       "    }\n",
       "</style>\n",
       "<table border=\"1\" class=\"dataframe\">\n",
       "  <thead>\n",
       "    <tr style=\"text-align: right;\">\n",
       "      <th></th>\n",
       "      <th>sku</th>\n",
       "      <th>marketplace_product_name_ar</th>\n",
       "      <th>seller_item_name</th>\n",
       "      <th>price</th>\n",
       "    </tr>\n",
       "  </thead>\n",
       "  <tbody>\n",
       "    <tr>\n",
       "      <th>0</th>\n",
       "      <td>1322</td>\n",
       "      <td>استوهالت 40 مجم 14 كبسول</td>\n",
       "      <td>ESTOHALT 40 MG 14 CAP</td>\n",
       "      <td>56.5</td>\n",
       "    </tr>\n",
       "    <tr>\n",
       "      <th>1</th>\n",
       "      <td>1322</td>\n",
       "      <td>استوهالت 40 مجم 14 كبسول</td>\n",
       "      <td>استوهالت 40 مجم 14 ك</td>\n",
       "      <td>56.5</td>\n",
       "    </tr>\n",
       "    <tr>\n",
       "      <th>2</th>\n",
       "      <td>1322</td>\n",
       "      <td>استوهالت 40 مجم 14 كبسول</td>\n",
       "      <td>استوهالت 40 مجم 14 ك</td>\n",
       "      <td>56.5</td>\n",
       "    </tr>\n",
       "    <tr>\n",
       "      <th>3</th>\n",
       "      <td>1322</td>\n",
       "      <td>استوهالت 40 مجم 14 كبسول</td>\n",
       "      <td>استوهالت 40 مجم 14 ك</td>\n",
       "      <td>56.5</td>\n",
       "    </tr>\n",
       "    <tr>\n",
       "      <th>4</th>\n",
       "      <td>1322</td>\n",
       "      <td>استوهالت 40 مجم 14 كبسول</td>\n",
       "      <td>استوهالت 40 مجم 14 ك</td>\n",
       "      <td>56.5</td>\n",
       "    </tr>\n",
       "  </tbody>\n",
       "</table>\n",
       "</div>"
      ],
      "text/plain": [
       "    sku marketplace_product_name_ar       seller_item_name  price\n",
       "0  1322    استوهالت 40 مجم 14 كبسول  ESTOHALT 40 MG 14 CAP   56.5\n",
       "1  1322    استوهالت 40 مجم 14 كبسول   استوهالت 40 مجم 14 ك   56.5\n",
       "2  1322    استوهالت 40 مجم 14 كبسول   استوهالت 40 مجم 14 ك   56.5\n",
       "3  1322    استوهالت 40 مجم 14 كبسول   استوهالت 40 مجم 14 ك   56.5\n",
       "4  1322    استوهالت 40 مجم 14 كبسول   استوهالت 40 مجم 14 ك   56.5"
      ]
     },
     "execution_count": 3,
     "metadata": {},
     "output_type": "execute_result"
    }
   ],
   "source": [
    "test_df = pd.read_csv('test.csv')\n",
    "df.head()"
   ]
  },
  {
   "cell_type": "code",
   "execution_count": 4,
   "metadata": {},
   "outputs": [
    {
     "data": {
      "text/plain": [
       "(83562, 4)"
      ]
     },
     "execution_count": 4,
     "metadata": {},
     "output_type": "execute_result"
    }
   ],
   "source": [
    "df.shape"
   ]
  },
  {
   "cell_type": "code",
   "execution_count": 5,
   "metadata": {},
   "outputs": [
    {
     "name": "stdout",
     "output_type": "stream",
     "text": [
      "<class 'pandas.core.frame.DataFrame'>\n",
      "RangeIndex: 83562 entries, 0 to 83561\n",
      "Data columns (total 4 columns):\n",
      " #   Column                       Non-Null Count  Dtype  \n",
      "---  ------                       --------------  -----  \n",
      " 0   sku                          83562 non-null  int64  \n",
      " 1   marketplace_product_name_ar  83562 non-null  object \n",
      " 2   seller_item_name             83562 non-null  object \n",
      " 3   price                        83562 non-null  float64\n",
      "dtypes: float64(1), int64(1), object(2)\n",
      "memory usage: 2.6+ MB\n"
     ]
    }
   ],
   "source": [
    "df.info()"
   ]
  },
  {
   "cell_type": "code",
   "execution_count": 6,
   "metadata": {},
   "outputs": [
    {
     "data": {
      "text/html": [
       "<div>\n",
       "<style scoped>\n",
       "    .dataframe tbody tr th:only-of-type {\n",
       "        vertical-align: middle;\n",
       "    }\n",
       "\n",
       "    .dataframe tbody tr th {\n",
       "        vertical-align: top;\n",
       "    }\n",
       "\n",
       "    .dataframe thead th {\n",
       "        text-align: right;\n",
       "    }\n",
       "</style>\n",
       "<table border=\"1\" class=\"dataframe\">\n",
       "  <thead>\n",
       "    <tr style=\"text-align: right;\">\n",
       "      <th></th>\n",
       "      <th>sku</th>\n",
       "      <th>price</th>\n",
       "    </tr>\n",
       "  </thead>\n",
       "  <tbody>\n",
       "    <tr>\n",
       "      <th>count</th>\n",
       "      <td>83562.000000</td>\n",
       "      <td>83562.000000</td>\n",
       "    </tr>\n",
       "    <tr>\n",
       "      <th>mean</th>\n",
       "      <td>1600.653204</td>\n",
       "      <td>79.055458</td>\n",
       "    </tr>\n",
       "    <tr>\n",
       "      <th>std</th>\n",
       "      <td>1469.206223</td>\n",
       "      <td>62.818117</td>\n",
       "    </tr>\n",
       "    <tr>\n",
       "      <th>min</th>\n",
       "      <td>4.000000</td>\n",
       "      <td>7.000000</td>\n",
       "    </tr>\n",
       "    <tr>\n",
       "      <th>25%</th>\n",
       "      <td>476.000000</td>\n",
       "      <td>38.000000</td>\n",
       "    </tr>\n",
       "    <tr>\n",
       "      <th>50%</th>\n",
       "      <td>1312.000000</td>\n",
       "      <td>61.500000</td>\n",
       "    </tr>\n",
       "    <tr>\n",
       "      <th>75%</th>\n",
       "      <td>2258.000000</td>\n",
       "      <td>100.500000</td>\n",
       "    </tr>\n",
       "    <tr>\n",
       "      <th>max</th>\n",
       "      <td>9532.000000</td>\n",
       "      <td>406.000000</td>\n",
       "    </tr>\n",
       "  </tbody>\n",
       "</table>\n",
       "</div>"
      ],
      "text/plain": [
       "                sku         price\n",
       "count  83562.000000  83562.000000\n",
       "mean    1600.653204     79.055458\n",
       "std     1469.206223     62.818117\n",
       "min        4.000000      7.000000\n",
       "25%      476.000000     38.000000\n",
       "50%     1312.000000     61.500000\n",
       "75%     2258.000000    100.500000\n",
       "max     9532.000000    406.000000"
      ]
     },
     "execution_count": 6,
     "metadata": {},
     "output_type": "execute_result"
    }
   ],
   "source": [
    "df.describe()"
   ]
  },
  {
   "cell_type": "code",
   "execution_count": 7,
   "metadata": {},
   "outputs": [
    {
     "data": {
      "text/plain": [
       "sku                            0\n",
       "marketplace_product_name_ar    0\n",
       "seller_item_name               0\n",
       "price                          0\n",
       "dtype: int64"
      ]
     },
     "execution_count": 7,
     "metadata": {},
     "output_type": "execute_result"
    }
   ],
   "source": [
    "df.isna().sum()"
   ]
  },
  {
   "cell_type": "code",
   "execution_count": 8,
   "metadata": {},
   "outputs": [],
   "source": [
    "df = df.sample(frac=1).reset_index(drop=True)"
   ]
  },
  {
   "cell_type": "code",
   "execution_count": 9,
   "metadata": {},
   "outputs": [
    {
     "data": {
      "text/plain": [
       "Index(['sku', 'marketplace_product_name_ar', 'seller_item_name', 'price'], dtype='object')"
      ]
     },
     "execution_count": 9,
     "metadata": {},
     "output_type": "execute_result"
    }
   ],
   "source": [
    "df.columns"
   ]
  },
  {
   "cell_type": "code",
   "execution_count": 10,
   "metadata": {},
   "outputs": [
    {
     "name": "stdout",
     "output_type": "stream",
     "text": [
      "Train DataFrame shape: (66849, 4)\n",
      "Test DataFrame shape: (16713, 4)\n",
      "\n",
      "Train DataFrame first rows:\n",
      "     sku marketplace_product_name_ar              seller_item_name  price\n",
      "0  1312      موزابرايد 5 مجم 30 قرص            موزابريد5محم 30قرص   91.5\n",
      "1  4743     ميكروسيرك 16 مجم 20 قرص        ميكروسيرك 16 مجم اقراص   29.0\n",
      "2  2517  البافيت كالسيوم شراب 60 مل     البافيت 60مل شراب كالسيوم   26.0\n",
      "3  2374     زيستريل 20 مجم 10 اقراص  زيستريل 20 مجم اقراص س جديد    52.0\n",
      "4   639           اتور 10 مجم 7 قرص              اتور10 اقراص س ج   33.0\n"
     ]
    }
   ],
   "source": [
    "train_df, validation_df = train_test_split(df, test_size=0.2, stratify=df['sku'], random_state=42)\n",
    "\n",
    "train_df = train_df.reset_index(drop=True)\n",
    "validation_df = validation_df.reset_index(drop=True)\n",
    "\n",
    "print(\"Train DataFrame shape:\", train_df.shape)\n",
    "print(\"Test DataFrame shape:\", validation_df.shape)\n",
    "print(\"\\nTrain DataFrame first rows:\\n\", train_df.head())\n"
   ]
  },
  {
   "cell_type": "markdown",
   "metadata": {},
   "source": [
    "## Import train and test datasets"
   ]
  },
  {
   "cell_type": "code",
   "execution_count": 11,
   "metadata": {},
   "outputs": [
    {
     "name": "stderr",
     "output_type": "stream",
     "text": [
      "<>:20: SyntaxWarning: invalid escape sequence '\\s'\n",
      "<>:20: SyntaxWarning: invalid escape sequence '\\s'\n",
      "/var/folders/qc/_v6f30pj3sq1vn0jhkyg29zw0000gn/T/ipykernel_84634/3025964644.py:20: SyntaxWarning: invalid escape sequence '\\s'\n",
      "  pattern = '[^\\u0621-\\u064A0-9a-zA-Z\\s]'\n"
     ]
    }
   ],
   "source": [
    "def arabic_word_preprocessing(text):\n",
    "    nltk.download('stopwords')\n",
    "    arabic_stopwords = set(stopwords.words('arabic'))\n",
    "    X = []\n",
    "    for i in range(len(text)):\n",
    "        \n",
    "        statment = re.sub(r'[إأآ]', 'ا', text[i])  \n",
    "        statment = re.sub(r'ى', 'ي', statment)  \n",
    "        statment = re.sub(r'ة', 'ه', statment)  \n",
    "        statment = re.sub(r'ؤ', 'و', statment)  \n",
    "        statment = re.sub(r'ئ', 'ي', statment)  \n",
    "        statment = re.sub(r'ــ', '', statment)\n",
    "        \n",
    "        statment = re.sub(r'([\\u0600-\\u06FF])\\1', r'\\1', statment)\n",
    "        \n",
    "        statment = re.sub(r'(\\d+)(?=\\D)', r'\\1 ', statment)\n",
    "        statment = re.sub(r'(\\D)(\\d+)', r'\\1 \\2', statment)\n",
    "        \n",
    "        pattern = '[^\\u0621-\\u064A0-9a-zA-Z\\s]' \n",
    "        statment = re.sub(pattern, ' ', statment)\n",
    "        \n",
    "        pattern = r\"(?<!\\d)(.)\\1+(?!\\d)\"\n",
    "        statment = re.sub(pattern, r\"\\1\", statment)\n",
    "        \n",
    "        pattern = r'\\b(مل|ملي|مم|جم|مج|مجم|عادي|عاده)\\b'\n",
    "        statment =  re.sub(pattern, '', statment)\n",
    "        \n",
    "        pattern = r'\\b(اقراص\\w*|قرص\\w*|شري\\w*|كبسول\\w*|شرايط|افلام|فيلم|استحلاب|ك|ق)\\b'\n",
    "        statment =  re.sub(pattern, 'قرص', statment)\n",
    "        \n",
    "        pattern = r'\\bقرص\\s+([^0-9\\s]+)\\s*'\n",
    "        statment = re.sub(pattern, 'قرص ', statment)        \n",
    "    \n",
    "        pattern = r'\\bامبول\\w*|حقن\\w*\\b'\n",
    "        statment = re.sub(pattern, 'امبول', statment)\n",
    "        \n",
    "        pattern = r'\\bامبول\\s+([^0-9\\s]+)\\s*'\n",
    "        statment = re.sub(pattern, 'امبول', statment)\n",
    "        \n",
    "        pattern = r'جل'\n",
    "        statment = re.sub(pattern, 'جيل', statment)\n",
    "        \n",
    "        pattern = r'جيل.*غسول'\n",
    "        statment = re.sub(pattern, 'غسول', statment)\n",
    "        \n",
    "        pattern = r'دش'\n",
    "        statment = re.sub(pattern, 'غسول', statment)\n",
    "        \n",
    "        pattern100 = r'\\bجيل\\s+(.+)\\b'\n",
    "        statment = re.sub(pattern100, 'جيل', statment)\n",
    "        \n",
    "        pattern100 = r'\\bغسول\\s+([^0-9\\s]+)\\s*'\n",
    "        statment = re.sub(pattern100, 'غسول', statment)\n",
    "        \n",
    "        pattern100 = r'\\bمحلول\\s+([^0-9\\s]+)\\s*'\n",
    "        statment = re.sub(pattern100, 'محلول', statment)\n",
    "    \n",
    "        pattern = r'(\\D)(قطر|قطره)\\b'\n",
    "        statment = re.sub(pattern, r'\\1 نقط', statment)\n",
    "        \n",
    "        pattern = r'قطر\\D+'\n",
    "        statment = re.sub(pattern, r'نقط', statment)\n",
    "        \n",
    "        pattern = r'\\b(قطره|قطر|نقط|نقطه|قطرهعين)\\b'\n",
    "        statment =  re.sub(pattern, 'نقط', statment)\n",
    "        \n",
    "        pattern = r'\\bنقط\\s+([^0-9\\s]+)\\s*'\n",
    "        statment = re.sub(pattern, 'نقط', statment)\n",
    "        \n",
    "        pattern = r'\\sفوار|اكياس|اكيااس'\n",
    "        statment = re.sub(pattern, 'كيس', statment)\n",
    "        \n",
    "        pattern = r'\\bكيس\\s+([^0-9\\s]+)\\s*'\n",
    "        statment = re.sub(pattern, 'كيس', statment)\n",
    "        \n",
    "        pattern = r'\\b(سبراي|بخاخه)\\b'\n",
    "        statment =  re.sub(pattern, 'بخاخ', statment)\n",
    "        \n",
    "        pattern = r'\\bبخاخ\\s+([^0-9\\s]+)\\s*'\n",
    "        statment = re.sub(pattern, 'بخاخ', statment)\n",
    "        \n",
    "        pattern = r'مرهم|اكريم'\n",
    "        statment = re.sub(pattern, 'كريم', statment)\n",
    "        \n",
    "        pattern = r'\\bكريم\\s+([^0-9\\s]+)\\s*'\n",
    "        statment = re.sub(pattern, 'كريم', statment)\n",
    "        \n",
    "        pattern = r'\\b\\w*استنشاق\\w*\\b'\n",
    "        statment = re.sub(pattern, '', statment)\n",
    "        \n",
    "        pattern = r'استنشـاق'\n",
    "        statment = re.sub(pattern, '', statment)\n",
    "        \n",
    "        pattern = r'شـراب+|شرب+|شراب+'\n",
    "        statment = re.sub(pattern, ' شراب', statment)\n",
    "        \n",
    "        pattern = r'\\bشراب\\s+([^0-9\\s]+)\\s*'\n",
    "        statment = re.sub(pattern, 'شراب', statment)\n",
    "        \n",
    "        pattern = r'\\b[قديم]+\\b' \n",
    "        statment = re.sub(pattern, '', statment)\n",
    "\n",
    "        pattern = r'\\b[جديد]+\\b'\n",
    "        statment = re.sub(pattern,\"\", statment)\n",
    "        \n",
    "        pattern = r'\\b[ء-ي]\\b'\n",
    "        statment = re.sub(pattern, '', statment)\n",
    "        \n",
    "        pattern = r'\\b[سعر]+\\b'\n",
    "        statment = re.sub(pattern, '', statment)\n",
    "        \n",
    "        pattern = r'\\bسج|سق\\b'\n",
    "        statment = re.sub(pattern, '', statment)\n",
    "        \n",
    "        pattern = r'\\b\\w*سعر\\w*\\b'\n",
    "        statment = re.sub(pattern, '', statment)\n",
    "        \n",
    "        pattern = r'\\b\\w*جدي\\w*\\b'\n",
    "        statment = re.sub(pattern, '', statment)\n",
    "        \n",
    "        words = statment.split()\n",
    "        filtered_words = [word for word in words if word not in arabic_stopwords]\n",
    "\n",
    "        X.append(' '.join(filtered_words))\n",
    "   \n",
    "    \n",
    "    return X"
   ]
  },
  {
   "cell_type": "code",
   "execution_count": 12,
   "metadata": {},
   "outputs": [],
   "source": [
    "cv = CountVectorizer()\n",
    "le = LabelEncoder()"
   ]
  },
  {
   "cell_type": "code",
   "execution_count": 13,
   "metadata": {},
   "outputs": [],
   "source": [
    "def preparing_train_df(train_df):\n",
    "    seller_name = train_df['seller_item_name'].apply(str)\n",
    "    X_train_text = arabic_word_preprocessing(seller_name)\n",
    "    X_train_text = cv.fit_transform(X_train_text).toarray()\n",
    "\n",
    "    X_train_price = train_df[['price']].values  \n",
    "    X_train_price = StandardScaler().fit_transform(X_train_price)  \n",
    "\n",
    "    X_train_combined = np.hstack([X_train_text, X_train_price])  \n",
    "\n",
    "    y_train = train_df['sku'].values\n",
    "    y_train = le.fit_transform(y_train)\n",
    "\n",
    "    return X_train_combined, y_train\n"
   ]
  },
  {
   "cell_type": "code",
   "execution_count": 14,
   "metadata": {},
   "outputs": [],
   "source": [
    "def preparing_validation_df(df):\n",
    "    seller_name = df['seller_item_name'].apply(str)\n",
    "    X_test_text = arabic_word_preprocessing(seller_name)\n",
    "    X_test_text = cv.transform(X_test_text).toarray()  \n",
    "\n",
    "    X_test_price = df[['price']].values  \n",
    "    X_test_price = StandardScaler().fit_transform(X_test_price)  \n",
    "\n",
    "    X_test_combined = np.hstack([X_test_text, X_test_price])  \n",
    "\n",
    "    y_test = df['sku'].values\n",
    "    y_test = le.transform(y_test)\n",
    "\n",
    "    return X_test_combined, y_test\n"
   ]
  },
  {
   "cell_type": "code",
   "execution_count": 15,
   "metadata": {},
   "outputs": [],
   "source": [
    "def preparing_test_df(df):\n",
    "    seller_name = df['seller_item_name'].apply(str)\n",
    "    X_test_text = arabic_word_preprocessing(seller_name)\n",
    "    X_test_text = cv.transform(X_test_text).toarray()  \n",
    "\n",
    "    X_test_price = df[['price']].values  \n",
    "    X_test_price = StandardScaler().fit_transform(X_test_price)  \n",
    "\n",
    "    X_test_combined = np.hstack([X_test_text, X_test_price])  \n",
    "\n",
    "\n",
    "    return X_test_combined\n"
   ]
  },
  {
   "cell_type": "code",
   "execution_count": 16,
   "metadata": {},
   "outputs": [
    {
     "name": "stderr",
     "output_type": "stream",
     "text": [
      "[nltk_data] Downloading package stopwords to /Users/mac/nltk_data...\n",
      "[nltk_data]   Package stopwords is already up-to-date!\n"
     ]
    }
   ],
   "source": [
    "X_train, y_train = preparing_train_df(train_df)"
   ]
  },
  {
   "cell_type": "code",
   "execution_count": 17,
   "metadata": {},
   "outputs": [
    {
     "name": "stderr",
     "output_type": "stream",
     "text": [
      "[nltk_data] Downloading package stopwords to /Users/mac/nltk_data...\n",
      "[nltk_data]   Package stopwords is already up-to-date!\n"
     ]
    }
   ],
   "source": [
    "X_validat, y_validat  = preparing_validation_df(validation_df)"
   ]
  },
  {
   "cell_type": "code",
   "execution_count": 18,
   "metadata": {},
   "outputs": [
    {
     "name": "stderr",
     "output_type": "stream",
     "text": [
      "[nltk_data] Downloading package stopwords to /Users/mac/nltk_data...\n",
      "[nltk_data]   Package stopwords is already up-to-date!\n"
     ]
    }
   ],
   "source": [
    "X_test = preparing_test_df(test_df)"
   ]
  },
  {
   "cell_type": "code",
   "execution_count": 19,
   "metadata": {},
   "outputs": [
    {
     "data": {
      "text/plain": [
       "66849"
      ]
     },
     "execution_count": 19,
     "metadata": {},
     "output_type": "execute_result"
    }
   ],
   "source": [
    "X_train.shape[0]\n"
   ]
  },
  {
   "cell_type": "code",
   "execution_count": 20,
   "metadata": {},
   "outputs": [
    {
     "name": "stderr",
     "output_type": "stream",
     "text": [
      "/opt/anaconda3/lib/python3.12/site-packages/keras/src/layers/core/dense.py:87: UserWarning: Do not pass an `input_shape`/`input_dim` argument to a layer. When using Sequential models, prefer using an `Input(shape)` object as the first layer in the model instead.\n",
      "  super().__init__(activity_regularizer=activity_regularizer, **kwargs)\n"
     ]
    },
    {
     "name": "stdout",
     "output_type": "stream",
     "text": [
      "Epoch 1/100\n",
      "\u001b[1m523/523\u001b[0m \u001b[32m━━━━━━━━━━━━━━━━━━━━\u001b[0m\u001b[37m\u001b[0m \u001b[1m13s\u001b[0m 23ms/step - accuracy: 0.5153 - loss: 3.8312 - val_accuracy: 0.9593 - val_loss: 0.9947 - learning_rate: 5.0000e-04\n",
      "Epoch 2/100\n",
      "\u001b[1m523/523\u001b[0m \u001b[32m━━━━━━━━━━━━━━━━━━━━\u001b[0m\u001b[37m\u001b[0m \u001b[1m13s\u001b[0m 24ms/step - accuracy: 0.9680 - loss: 0.3380 - val_accuracy: 0.9774 - val_loss: 0.1634 - learning_rate: 5.0000e-04\n",
      "Epoch 3/100\n",
      "\u001b[1m523/523\u001b[0m \u001b[32m━━━━━━━━━━━━━━━━━━━━\u001b[0m\u001b[37m\u001b[0m \u001b[1m13s\u001b[0m 25ms/step - accuracy: 0.9818 - loss: 0.1723 - val_accuracy: 0.9831 - val_loss: 0.1366 - learning_rate: 5.0000e-04\n",
      "Epoch 4/100\n",
      "\u001b[1m523/523\u001b[0m \u001b[32m━━━━━━━━━━━━━━━━━━━━\u001b[0m\u001b[37m\u001b[0m \u001b[1m13s\u001b[0m 24ms/step - accuracy: 0.9870 - loss: 0.1272 - val_accuracy: 0.9861 - val_loss: 0.1245 - learning_rate: 5.0000e-04\n",
      "Epoch 5/100\n",
      "\u001b[1m523/523\u001b[0m \u001b[32m━━━━━━━━━━━━━━━━━━━━\u001b[0m\u001b[37m\u001b[0m \u001b[1m12s\u001b[0m 23ms/step - accuracy: 0.9901 - loss: 0.1057 - val_accuracy: 0.9873 - val_loss: 0.1177 - learning_rate: 5.0000e-04\n",
      "Epoch 6/100\n",
      "\u001b[1m523/523\u001b[0m \u001b[32m━━━━━━━━━━━━━━━━━━━━\u001b[0m\u001b[37m\u001b[0m \u001b[1m11s\u001b[0m 21ms/step - accuracy: 0.9913 - loss: 0.0922 - val_accuracy: 0.9854 - val_loss: 0.1130 - learning_rate: 5.0000e-04\n",
      "Epoch 7/100\n",
      "\u001b[1m523/523\u001b[0m \u001b[32m━━━━━━━━━━━━━━━━━━━━\u001b[0m\u001b[37m\u001b[0m \u001b[1m12s\u001b[0m 22ms/step - accuracy: 0.9924 - loss: 0.0832 - val_accuracy: 0.9862 - val_loss: 0.1084 - learning_rate: 5.0000e-04\n",
      "Epoch 8/100\n",
      "\u001b[1m523/523\u001b[0m \u001b[32m━━━━━━━━━━━━━━━━━━━━\u001b[0m\u001b[37m\u001b[0m \u001b[1m12s\u001b[0m 23ms/step - accuracy: 0.9930 - loss: 0.0791 - val_accuracy: 0.9858 - val_loss: 0.1073 - learning_rate: 5.0000e-04\n",
      "Epoch 9/100\n",
      "\u001b[1m523/523\u001b[0m \u001b[32m━━━━━━━━━━━━━━━━━━━━\u001b[0m\u001b[37m\u001b[0m \u001b[1m12s\u001b[0m 23ms/step - accuracy: 0.9917 - loss: 0.0739 - val_accuracy: 0.9849 - val_loss: 0.1062 - learning_rate: 5.0000e-04\n",
      "Epoch 10/100\n",
      "\u001b[1m523/523\u001b[0m \u001b[32m━━━━━━━━━━━━━━━━━━━━\u001b[0m\u001b[37m\u001b[0m \u001b[1m12s\u001b[0m 24ms/step - accuracy: 0.9919 - loss: 0.0751 - val_accuracy: 0.9880 - val_loss: 0.1028 - learning_rate: 5.0000e-04\n",
      "Epoch 11/100\n",
      "\u001b[1m523/523\u001b[0m \u001b[32m━━━━━━━━━━━━━━━━━━━━\u001b[0m\u001b[37m\u001b[0m \u001b[1m12s\u001b[0m 22ms/step - accuracy: 0.9926 - loss: 0.0718 - val_accuracy: 0.9885 - val_loss: 0.0984 - learning_rate: 5.0000e-04\n",
      "Epoch 12/100\n",
      "\u001b[1m523/523\u001b[0m \u001b[32m━━━━━━━━━━━━━━━━━━━━\u001b[0m\u001b[37m\u001b[0m \u001b[1m11s\u001b[0m 22ms/step - accuracy: 0.9927 - loss: 0.0708 - val_accuracy: 0.9879 - val_loss: 0.1013 - learning_rate: 5.0000e-04\n",
      "Epoch 13/100\n",
      "\u001b[1m523/523\u001b[0m \u001b[32m━━━━━━━━━━━━━━━━━━━━\u001b[0m\u001b[37m\u001b[0m \u001b[1m12s\u001b[0m 22ms/step - accuracy: 0.9930 - loss: 0.0686 - val_accuracy: 0.9884 - val_loss: 0.1019 - learning_rate: 5.0000e-04\n",
      "Epoch 14/100\n",
      "\u001b[1m522/523\u001b[0m \u001b[32m━━━━━━━━━━━━━━━━━━━\u001b[0m\u001b[37m━\u001b[0m \u001b[1m0s\u001b[0m 21ms/step - accuracy: 0.9930 - loss: 0.0668\n",
      "Epoch 14: ReduceLROnPlateau reducing learning rate to 0.0002500000118743628.\n",
      "\u001b[1m523/523\u001b[0m \u001b[32m━━━━━━━━━━━━━━━━━━━━\u001b[0m\u001b[37m\u001b[0m \u001b[1m12s\u001b[0m 22ms/step - accuracy: 0.9930 - loss: 0.0668 - val_accuracy: 0.9883 - val_loss: 0.1033 - learning_rate: 5.0000e-04\n",
      "Epoch 15/100\n",
      "\u001b[1m523/523\u001b[0m \u001b[32m━━━━━━━━━━━━━━━━━━━━\u001b[0m\u001b[37m\u001b[0m \u001b[1m12s\u001b[0m 23ms/step - accuracy: 0.9945 - loss: 0.0603 - val_accuracy: 0.9899 - val_loss: 0.0917 - learning_rate: 2.5000e-04\n",
      "Epoch 16/100\n",
      "\u001b[1m523/523\u001b[0m \u001b[32m━━━━━━━━━━━━━━━━━━━━\u001b[0m\u001b[37m\u001b[0m \u001b[1m12s\u001b[0m 22ms/step - accuracy: 0.9956 - loss: 0.0523 - val_accuracy: 0.9893 - val_loss: 0.0900 - learning_rate: 2.5000e-04\n",
      "Epoch 17/100\n",
      "\u001b[1m523/523\u001b[0m \u001b[32m━━━━━━━━━━━━━━━━━━━━\u001b[0m\u001b[37m\u001b[0m \u001b[1m13s\u001b[0m 25ms/step - accuracy: 0.9963 - loss: 0.0474 - val_accuracy: 0.9894 - val_loss: 0.0850 - learning_rate: 2.5000e-04\n",
      "Epoch 18/100\n",
      "\u001b[1m523/523\u001b[0m \u001b[32m━━━━━━━━━━━━━━━━━━━━\u001b[0m\u001b[37m\u001b[0m \u001b[1m13s\u001b[0m 24ms/step - accuracy: 0.9954 - loss: 0.0455 - val_accuracy: 0.9893 - val_loss: 0.0836 - learning_rate: 2.5000e-04\n",
      "Epoch 19/100\n",
      "\u001b[1m523/523\u001b[0m \u001b[32m━━━━━━━━━━━━━━━━━━━━\u001b[0m\u001b[37m\u001b[0m \u001b[1m21s\u001b[0m 40ms/step - accuracy: 0.9956 - loss: 0.0425 - val_accuracy: 0.9882 - val_loss: 0.0817 - learning_rate: 2.5000e-04\n",
      "Epoch 20/100\n",
      "\u001b[1m523/523\u001b[0m \u001b[32m━━━━━━━━━━━━━━━━━━━━\u001b[0m\u001b[37m\u001b[0m \u001b[1m17s\u001b[0m 33ms/step - accuracy: 0.9954 - loss: 0.0417 - val_accuracy: 0.9901 - val_loss: 0.0774 - learning_rate: 2.5000e-04\n",
      "Epoch 21/100\n",
      "\u001b[1m523/523\u001b[0m \u001b[32m━━━━━━━━━━━━━━━━━━━━\u001b[0m\u001b[37m\u001b[0m \u001b[1m17s\u001b[0m 32ms/step - accuracy: 0.9955 - loss: 0.0396 - val_accuracy: 0.9892 - val_loss: 0.0797 - learning_rate: 2.5000e-04\n",
      "Epoch 22/100\n",
      "\u001b[1m523/523\u001b[0m \u001b[32m━━━━━━━━━━━━━━━━━━━━\u001b[0m\u001b[37m\u001b[0m \u001b[1m12s\u001b[0m 24ms/step - accuracy: 0.9952 - loss: 0.0390 - val_accuracy: 0.9893 - val_loss: 0.0791 - learning_rate: 2.5000e-04\n",
      "Epoch 23/100\n",
      "\u001b[1m523/523\u001b[0m \u001b[32m━━━━━━━━━━━━━━━━━━━━\u001b[0m\u001b[37m\u001b[0m \u001b[1m0s\u001b[0m 27ms/step - accuracy: 0.9952 - loss: 0.0383\n",
      "Epoch 23: ReduceLROnPlateau reducing learning rate to 0.0001250000059371814.\n",
      "\u001b[1m523/523\u001b[0m \u001b[32m━━━━━━━━━━━━━━━━━━━━\u001b[0m\u001b[37m\u001b[0m \u001b[1m15s\u001b[0m 29ms/step - accuracy: 0.9952 - loss: 0.0383 - val_accuracy: 0.9887 - val_loss: 0.0782 - learning_rate: 2.5000e-04\n",
      "Epoch 24/100\n",
      "\u001b[1m523/523\u001b[0m \u001b[32m━━━━━━━━━━━━━━━━━━━━\u001b[0m\u001b[37m\u001b[0m \u001b[1m14s\u001b[0m 26ms/step - accuracy: 0.9959 - loss: 0.0342 - val_accuracy: 0.9904 - val_loss: 0.0760 - learning_rate: 1.2500e-04\n",
      "Epoch 25/100\n",
      "\u001b[1m523/523\u001b[0m \u001b[32m━━━━━━━━━━━━━━━━━━━━\u001b[0m\u001b[37m\u001b[0m \u001b[1m12s\u001b[0m 23ms/step - accuracy: 0.9964 - loss: 0.0321 - val_accuracy: 0.9901 - val_loss: 0.0736 - learning_rate: 1.2500e-04\n",
      "Epoch 26/100\n",
      "\u001b[1m523/523\u001b[0m \u001b[32m━━━━━━━━━━━━━━━━━━━━\u001b[0m\u001b[37m\u001b[0m \u001b[1m12s\u001b[0m 23ms/step - accuracy: 0.9961 - loss: 0.0310 - val_accuracy: 0.9899 - val_loss: 0.0716 - learning_rate: 1.2500e-04\n",
      "Epoch 27/100\n",
      "\u001b[1m523/523\u001b[0m \u001b[32m━━━━━━━━━━━━━━━━━━━━\u001b[0m\u001b[37m\u001b[0m \u001b[1m14s\u001b[0m 27ms/step - accuracy: 0.9969 - loss: 0.0282 - val_accuracy: 0.9898 - val_loss: 0.0723 - learning_rate: 1.2500e-04\n",
      "Epoch 28/100\n",
      "\u001b[1m523/523\u001b[0m \u001b[32m━━━━━━━━━━━━━━━━━━━━\u001b[0m\u001b[37m\u001b[0m \u001b[1m12s\u001b[0m 24ms/step - accuracy: 0.9964 - loss: 0.0278 - val_accuracy: 0.9900 - val_loss: 0.0720 - learning_rate: 1.2500e-04\n",
      "Epoch 29/100\n",
      "\u001b[1m523/523\u001b[0m \u001b[32m━━━━━━━━━━━━━━━━━━━━\u001b[0m\u001b[37m\u001b[0m \u001b[1m13s\u001b[0m 25ms/step - accuracy: 0.9967 - loss: 0.0268 - val_accuracy: 0.9899 - val_loss: 0.0705 - learning_rate: 1.2500e-04\n",
      "Epoch 30/100\n",
      "\u001b[1m523/523\u001b[0m \u001b[32m━━━━━━━━━━━━━━━━━━━━\u001b[0m\u001b[37m\u001b[0m \u001b[1m12s\u001b[0m 24ms/step - accuracy: 0.9964 - loss: 0.0266 - val_accuracy: 0.9898 - val_loss: 0.0695 - learning_rate: 1.2500e-04\n",
      "Epoch 31/100\n",
      "\u001b[1m523/523\u001b[0m \u001b[32m━━━━━━━━━━━━━━━━━━━━\u001b[0m\u001b[37m\u001b[0m \u001b[1m13s\u001b[0m 24ms/step - accuracy: 0.9969 - loss: 0.0256 - val_accuracy: 0.9897 - val_loss: 0.0693 - learning_rate: 1.2500e-04\n",
      "Epoch 32/100\n",
      "\u001b[1m523/523\u001b[0m \u001b[32m━━━━━━━━━━━━━━━━━━━━\u001b[0m\u001b[37m\u001b[0m \u001b[1m15s\u001b[0m 28ms/step - accuracy: 0.9966 - loss: 0.0258 - val_accuracy: 0.9898 - val_loss: 0.0664 - learning_rate: 1.2500e-04\n",
      "Epoch 33/100\n",
      "\u001b[1m523/523\u001b[0m \u001b[32m━━━━━━━━━━━━━━━━━━━━\u001b[0m\u001b[37m\u001b[0m \u001b[1m12s\u001b[0m 23ms/step - accuracy: 0.9967 - loss: 0.0238 - val_accuracy: 0.9904 - val_loss: 0.0670 - learning_rate: 1.2500e-04\n",
      "Epoch 34/100\n",
      "\u001b[1m523/523\u001b[0m \u001b[32m━━━━━━━━━━━━━━━━━━━━\u001b[0m\u001b[37m\u001b[0m \u001b[1m14s\u001b[0m 26ms/step - accuracy: 0.9968 - loss: 0.0229 - val_accuracy: 0.9902 - val_loss: 0.0668 - learning_rate: 1.2500e-04\n",
      "Epoch 35/100\n",
      "\u001b[1m523/523\u001b[0m \u001b[32m━━━━━━━━━━━━━━━━━━━━\u001b[0m\u001b[37m\u001b[0m \u001b[1m13s\u001b[0m 25ms/step - accuracy: 0.9970 - loss: 0.0222 - val_accuracy: 0.9901 - val_loss: 0.0662 - learning_rate: 1.2500e-04\n",
      "Epoch 36/100\n",
      "\u001b[1m523/523\u001b[0m \u001b[32m━━━━━━━━━━━━━━━━━━━━\u001b[0m\u001b[37m\u001b[0m \u001b[1m13s\u001b[0m 24ms/step - accuracy: 0.9968 - loss: 0.0236 - val_accuracy: 0.9904 - val_loss: 0.0666 - learning_rate: 1.2500e-04\n",
      "Epoch 37/100\n",
      "\u001b[1m523/523\u001b[0m \u001b[32m━━━━━━━━━━━━━━━━━━━━\u001b[0m\u001b[37m\u001b[0m \u001b[1m13s\u001b[0m 25ms/step - accuracy: 0.9965 - loss: 0.0231 - val_accuracy: 0.9904 - val_loss: 0.0645 - learning_rate: 1.2500e-04\n",
      "Epoch 38/100\n",
      "\u001b[1m523/523\u001b[0m \u001b[32m━━━━━━━━━━━━━━━━━━━━\u001b[0m\u001b[37m\u001b[0m \u001b[1m13s\u001b[0m 24ms/step - accuracy: 0.9968 - loss: 0.0215 - val_accuracy: 0.9899 - val_loss: 0.0642 - learning_rate: 1.2500e-04\n",
      "Epoch 39/100\n",
      "\u001b[1m523/523\u001b[0m \u001b[32m━━━━━━━━━━━━━━━━━━━━\u001b[0m\u001b[37m\u001b[0m \u001b[1m13s\u001b[0m 25ms/step - accuracy: 0.9967 - loss: 0.0210 - val_accuracy: 0.9899 - val_loss: 0.0655 - learning_rate: 1.2500e-04\n",
      "Epoch 40/100\n",
      "\u001b[1m523/523\u001b[0m \u001b[32m━━━━━━━━━━━━━━━━━━━━\u001b[0m\u001b[37m\u001b[0m \u001b[1m14s\u001b[0m 26ms/step - accuracy: 0.9965 - loss: 0.0211 - val_accuracy: 0.9898 - val_loss: 0.0665 - learning_rate: 1.2500e-04\n",
      "Epoch 41/100\n",
      "\u001b[1m522/523\u001b[0m \u001b[32m━━━━━━━━━━━━━━━━━━━\u001b[0m\u001b[37m━\u001b[0m \u001b[1m0s\u001b[0m 23ms/step - accuracy: 0.9963 - loss: 0.0202\n",
      "Epoch 41: ReduceLROnPlateau reducing learning rate to 6.25000029685907e-05.\n",
      "\u001b[1m523/523\u001b[0m \u001b[32m━━━━━━━━━━━━━━━━━━━━\u001b[0m\u001b[37m\u001b[0m \u001b[1m13s\u001b[0m 24ms/step - accuracy: 0.9963 - loss: 0.0202 - val_accuracy: 0.9901 - val_loss: 0.0641 - learning_rate: 1.2500e-04\n",
      "Epoch 42/100\n",
      "\u001b[1m523/523\u001b[0m \u001b[32m━━━━━━━━━━━━━━━━━━━━\u001b[0m\u001b[37m\u001b[0m \u001b[1m13s\u001b[0m 24ms/step - accuracy: 0.9967 - loss: 0.0199 - val_accuracy: 0.9906 - val_loss: 0.0636 - learning_rate: 6.2500e-05\n",
      "Epoch 43/100\n",
      "\u001b[1m523/523\u001b[0m \u001b[32m━━━━━━━━━━━━━━━━━━━━\u001b[0m\u001b[37m\u001b[0m \u001b[1m13s\u001b[0m 25ms/step - accuracy: 0.9968 - loss: 0.0187 - val_accuracy: 0.9909 - val_loss: 0.0644 - learning_rate: 6.2500e-05\n",
      "Epoch 44/100\n",
      "\u001b[1m523/523\u001b[0m \u001b[32m━━━━━━━━━━━━━━━━━━━━\u001b[0m\u001b[37m\u001b[0m \u001b[1m13s\u001b[0m 26ms/step - accuracy: 0.9973 - loss: 0.0184 - val_accuracy: 0.9904 - val_loss: 0.0642 - learning_rate: 6.2500e-05\n",
      "Epoch 45/100\n",
      "\u001b[1m521/523\u001b[0m \u001b[32m━━━━━━━━━━━━━━━━━━━\u001b[0m\u001b[37m━\u001b[0m \u001b[1m0s\u001b[0m 22ms/step - accuracy: 0.9967 - loss: 0.0182\n",
      "Epoch 45: ReduceLROnPlateau reducing learning rate to 3.125000148429535e-05.\n",
      "\u001b[1m523/523\u001b[0m \u001b[32m━━━━━━━━━━━━━━━━━━━━\u001b[0m\u001b[37m\u001b[0m \u001b[1m13s\u001b[0m 24ms/step - accuracy: 0.9967 - loss: 0.0182 - val_accuracy: 0.9900 - val_loss: 0.0640 - learning_rate: 6.2500e-05\n",
      "Epoch 46/100\n",
      "\u001b[1m523/523\u001b[0m \u001b[32m━━━━━━━━━━━━━━━━━━━━\u001b[0m\u001b[37m\u001b[0m \u001b[1m13s\u001b[0m 24ms/step - accuracy: 0.9973 - loss: 0.0167 - val_accuracy: 0.9902 - val_loss: 0.0636 - learning_rate: 3.1250e-05\n",
      "Epoch 47/100\n",
      "\u001b[1m523/523\u001b[0m \u001b[32m━━━━━━━━━━━━━━━━━━━━\u001b[0m\u001b[37m\u001b[0m \u001b[1m13s\u001b[0m 24ms/step - accuracy: 0.9971 - loss: 0.0168 - val_accuracy: 0.9904 - val_loss: 0.0633 - learning_rate: 3.1250e-05\n",
      "Epoch 48/100\n",
      "\u001b[1m523/523\u001b[0m \u001b[32m━━━━━━━━━━━━━━━━━━━━\u001b[0m\u001b[37m\u001b[0m \u001b[1m12s\u001b[0m 24ms/step - accuracy: 0.9973 - loss: 0.0164 - val_accuracy: 0.9903 - val_loss: 0.0639 - learning_rate: 3.1250e-05\n",
      "Epoch 49/100\n",
      "\u001b[1m523/523\u001b[0m \u001b[32m━━━━━━━━━━━━━━━━━━━━\u001b[0m\u001b[37m\u001b[0m \u001b[1m13s\u001b[0m 24ms/step - accuracy: 0.9969 - loss: 0.0169 - val_accuracy: 0.9899 - val_loss: 0.0636 - learning_rate: 3.1250e-05\n",
      "Epoch 50/100\n",
      "\u001b[1m523/523\u001b[0m \u001b[32m━━━━━━━━━━━━━━━━━━━━\u001b[0m\u001b[37m\u001b[0m \u001b[1m14s\u001b[0m 26ms/step - accuracy: 0.9973 - loss: 0.0153 - val_accuracy: 0.9903 - val_loss: 0.0632 - learning_rate: 3.1250e-05\n",
      "Epoch 51/100\n",
      "\u001b[1m523/523\u001b[0m \u001b[32m━━━━━━━━━━━━━━━━━━━━\u001b[0m\u001b[37m\u001b[0m \u001b[1m13s\u001b[0m 25ms/step - accuracy: 0.9971 - loss: 0.0155 - val_accuracy: 0.9904 - val_loss: 0.0618 - learning_rate: 3.1250e-05\n",
      "Epoch 52/100\n",
      "\u001b[1m523/523\u001b[0m \u001b[32m━━━━━━━━━━━━━━━━━━━━\u001b[0m\u001b[37m\u001b[0m \u001b[1m13s\u001b[0m 24ms/step - accuracy: 0.9971 - loss: 0.0159 - val_accuracy: 0.9904 - val_loss: 0.0618 - learning_rate: 3.1250e-05\n",
      "Epoch 53/100\n",
      "\u001b[1m523/523\u001b[0m \u001b[32m━━━━━━━━━━━━━━━━━━━━\u001b[0m\u001b[37m\u001b[0m \u001b[1m13s\u001b[0m 26ms/step - accuracy: 0.9975 - loss: 0.0152 - val_accuracy: 0.9908 - val_loss: 0.0614 - learning_rate: 3.1250e-05\n",
      "Epoch 54/100\n",
      "\u001b[1m523/523\u001b[0m \u001b[32m━━━━━━━━━━━━━━━━━━━━\u001b[0m\u001b[37m\u001b[0m \u001b[1m12s\u001b[0m 24ms/step - accuracy: 0.9973 - loss: 0.0146 - val_accuracy: 0.9905 - val_loss: 0.0619 - learning_rate: 3.1250e-05\n",
      "Epoch 55/100\n",
      "\u001b[1m523/523\u001b[0m \u001b[32m━━━━━━━━━━━━━━━━━━━━\u001b[0m\u001b[37m\u001b[0m \u001b[1m13s\u001b[0m 25ms/step - accuracy: 0.9974 - loss: 0.0149 - val_accuracy: 0.9902 - val_loss: 0.0619 - learning_rate: 3.1250e-05\n",
      "Epoch 56/100\n",
      "\u001b[1m521/523\u001b[0m \u001b[32m━━━━━━━━━━━━━━━━━━━\u001b[0m\u001b[37m━\u001b[0m \u001b[1m0s\u001b[0m 24ms/step - accuracy: 0.9976 - loss: 0.0145\n",
      "Epoch 56: ReduceLROnPlateau reducing learning rate to 1.5625000742147677e-05.\n",
      "\u001b[1m523/523\u001b[0m \u001b[32m━━━━━━━━━━━━━━━━━━━━\u001b[0m\u001b[37m\u001b[0m \u001b[1m13s\u001b[0m 25ms/step - accuracy: 0.9976 - loss: 0.0145 - val_accuracy: 0.9907 - val_loss: 0.0625 - learning_rate: 3.1250e-05\n",
      "Epoch 57/100\n",
      "\u001b[1m523/523\u001b[0m \u001b[32m━━━━━━━━━━━━━━━━━━━━\u001b[0m\u001b[37m\u001b[0m \u001b[1m14s\u001b[0m 26ms/step - accuracy: 0.9977 - loss: 0.0138 - val_accuracy: 0.9904 - val_loss: 0.0622 - learning_rate: 1.5625e-05\n",
      "Epoch 58/100\n",
      "\u001b[1m523/523\u001b[0m \u001b[32m━━━━━━━━━━━━━━━━━━━━\u001b[0m\u001b[37m\u001b[0m \u001b[1m13s\u001b[0m 25ms/step - accuracy: 0.9977 - loss: 0.0143 - val_accuracy: 0.9907 - val_loss: 0.0624 - learning_rate: 1.5625e-05\n",
      "Epoch 59/100\n",
      "\u001b[1m523/523\u001b[0m \u001b[32m━━━━━━━━━━━━━━━━━━━━\u001b[0m\u001b[37m\u001b[0m \u001b[1m0s\u001b[0m 22ms/step - accuracy: 0.9973 - loss: 0.0142\n",
      "Epoch 59: ReduceLROnPlateau reducing learning rate to 7.812500371073838e-06.\n",
      "\u001b[1m523/523\u001b[0m \u001b[32m━━━━━━━━━━━━━━━━━━━━\u001b[0m\u001b[37m\u001b[0m \u001b[1m13s\u001b[0m 24ms/step - accuracy: 0.9973 - loss: 0.0142 - val_accuracy: 0.9905 - val_loss: 0.0625 - learning_rate: 1.5625e-05\n",
      "Epoch 60/100\n",
      "\u001b[1m523/523\u001b[0m \u001b[32m━━━━━━━━━━━━━━━━━━━━\u001b[0m\u001b[37m\u001b[0m \u001b[1m13s\u001b[0m 24ms/step - accuracy: 0.9975 - loss: 0.0139 - val_accuracy: 0.9908 - val_loss: 0.0626 - learning_rate: 7.8125e-06\n"
     ]
    },
    {
     "data": {
      "text/plain": [
       "<keras.src.callbacks.history.History at 0x16b685700>"
      ]
     },
     "execution_count": 20,
     "metadata": {},
     "output_type": "execute_result"
    }
   ],
   "source": [
    "import tensorflow as tf\n",
    "from tensorflow import keras\n",
    "\n",
    "num_classes = len(set(y_train))  \n",
    "\n",
    "\n",
    "# Define the model\n",
    "model = keras.Sequential([\n",
    "    keras.layers.Dense(512, activation='relu', kernel_regularizer=keras.regularizers.l2(0.0001), input_shape=(X_train.shape[1],)),\n",
    "    keras.layers.BatchNormalization(),\n",
    "    keras.layers.Dropout(0.3),\n",
    "\n",
    "    keras.layers.Dense(256, activation='relu', kernel_regularizer=keras.regularizers.l2(0.0001)),\n",
    "    keras.layers.BatchNormalization(),\n",
    "    keras.layers.Dropout(0.25),\n",
    "\n",
    "    keras.layers.Dense(128, activation='relu', kernel_regularizer=keras.regularizers.l2(0.0001)),\n",
    "    keras.layers.BatchNormalization(),\n",
    "    keras.layers.Dropout(0.2),\n",
    "\n",
    "    keras.layers.Dense(num_classes, activation='softmax')  \n",
    "])\n",
    "\n",
    "\n",
    "optimizer = keras.optimizers.AdamW(learning_rate=0.0005, weight_decay=0.01)\n",
    "\n",
    "\n",
    "model.compile(optimizer=optimizer, loss='sparse_categorical_crossentropy', metrics=['accuracy'])\n",
    "\n",
    "\n",
    "early_stopping = keras.callbacks.EarlyStopping(monitor='val_loss', patience=7, restore_best_weights=True)\n",
    "reduce_lr = keras.callbacks.ReduceLROnPlateau(monitor='val_loss', factor=0.5, patience=3, min_lr=1e-6, verbose=1)\n",
    "\n",
    "\n",
    "model.fit(X_train, y_train, epochs=100, batch_size=128, validation_data=(X_validat, y_validat), callbacks=[early_stopping, reduce_lr])\n"
   ]
  },
  {
   "cell_type": "code",
   "execution_count": 21,
   "metadata": {},
   "outputs": [
    {
     "name": "stdout",
     "output_type": "stream",
     "text": [
      "\u001b[1m2090/2090\u001b[0m \u001b[32m━━━━━━━━━━━━━━━━━━━━\u001b[0m\u001b[37m\u001b[0m \u001b[1m7s\u001b[0m 3ms/step - accuracy: 0.9978 - loss: 0.0137\n",
      "Train Accuracy: 0.9977\n",
      "\u001b[1m523/523\u001b[0m \u001b[32m━━━━━━━━━━━━━━━━━━━━\u001b[0m\u001b[37m\u001b[0m \u001b[1m2s\u001b[0m 4ms/step - accuracy: 0.9916 - loss: 0.0616\n",
      "Test Accuracy: 0.9908\n"
     ]
    }
   ],
   "source": [
    "train_loss, train_acc = model.evaluate(X_train, y_train)\n",
    "print(f\"Train Accuracy: {train_acc:.4f}\")\n",
    "\n",
    "validation_loss, validation_acc = model.evaluate(X_validat, y_validat)\n",
    "print(f\"Test Accuracy: {validation_acc:.4f}\")"
   ]
  },
  {
   "cell_type": "code",
   "execution_count": 22,
   "metadata": {},
   "outputs": [
    {
     "name": "stdout",
     "output_type": "stream",
     "text": [
      "\u001b[1m2090/2090\u001b[0m \u001b[32m━━━━━━━━━━━━━━━━━━━━\u001b[0m\u001b[37m\u001b[0m \u001b[1m5s\u001b[0m 2ms/step\n"
     ]
    },
    {
     "data": {
      "text/html": [
       "<div>\n",
       "<style scoped>\n",
       "    .dataframe tbody tr th:only-of-type {\n",
       "        vertical-align: middle;\n",
       "    }\n",
       "\n",
       "    .dataframe tbody tr th {\n",
       "        vertical-align: top;\n",
       "    }\n",
       "\n",
       "    .dataframe thead th {\n",
       "        text-align: right;\n",
       "    }\n",
       "</style>\n",
       "<table border=\"1\" class=\"dataframe\">\n",
       "  <thead>\n",
       "    <tr style=\"text-align: right;\">\n",
       "      <th></th>\n",
       "      <th>Predicted</th>\n",
       "      <th>Confidence</th>\n",
       "    </tr>\n",
       "  </thead>\n",
       "  <tbody>\n",
       "    <tr>\n",
       "      <th>0</th>\n",
       "      <td>1312</td>\n",
       "      <td>1.00</td>\n",
       "    </tr>\n",
       "    <tr>\n",
       "      <th>1</th>\n",
       "      <td>4743</td>\n",
       "      <td>1.00</td>\n",
       "    </tr>\n",
       "    <tr>\n",
       "      <th>2</th>\n",
       "      <td>2517</td>\n",
       "      <td>1.00</td>\n",
       "    </tr>\n",
       "    <tr>\n",
       "      <th>3</th>\n",
       "      <td>2374</td>\n",
       "      <td>1.00</td>\n",
       "    </tr>\n",
       "    <tr>\n",
       "      <th>4</th>\n",
       "      <td>639</td>\n",
       "      <td>1.00</td>\n",
       "    </tr>\n",
       "  </tbody>\n",
       "</table>\n",
       "</div>"
      ],
      "text/plain": [
       "  Predicted Confidence\n",
       "0      1312       1.00\n",
       "1      4743       1.00\n",
       "2      2517       1.00\n",
       "3      2374       1.00\n",
       "4       639       1.00"
      ]
     },
     "execution_count": 22,
     "metadata": {},
     "output_type": "execute_result"
    }
   ],
   "source": [
    "probabilities = model.predict(X_test)\n",
    "\n",
    "confidence_scores = np.max(probabilities, axis=1)\n",
    "\n",
    "predicted_indices = np.argmax(probabilities, axis=1)\n",
    "\n",
    "predicted_labels = le.inverse_transform(predicted_indices)\n",
    "\n",
    "confidence_threshold = 0.75\n",
    "\n",
    "test_results = []\n",
    "\n",
    "for i in range(len(X_test)):\n",
    "    confidence = confidence_scores[i]\n",
    "    predicted_class = predicted_labels[i]\n",
    "\n",
    "    if confidence < confidence_threshold:\n",
    "        predicted_class = \"Unknown\"\n",
    "\n",
    "    test_results.append({\n",
    "        'Predicted': predicted_class,\n",
    "        'Confidence': f\"{confidence:.2f}\"\n",
    "    })\n",
    "\n",
    "temp_df = pd.DataFrame(test_results)\n",
    "\n",
    "temp_df.head()\n"
   ]
  },
  {
   "cell_type": "code",
   "execution_count": 23,
   "metadata": {},
   "outputs": [],
   "source": [
    "predicted_df = test_df"
   ]
  },
  {
   "cell_type": "code",
   "execution_count": 24,
   "metadata": {},
   "outputs": [
    {
     "data": {
      "text/html": [
       "<div>\n",
       "<style scoped>\n",
       "    .dataframe tbody tr th:only-of-type {\n",
       "        vertical-align: middle;\n",
       "    }\n",
       "\n",
       "    .dataframe tbody tr th {\n",
       "        vertical-align: top;\n",
       "    }\n",
       "\n",
       "    .dataframe thead th {\n",
       "        text-align: right;\n",
       "    }\n",
       "</style>\n",
       "<table border=\"1\" class=\"dataframe\">\n",
       "  <thead>\n",
       "    <tr style=\"text-align: right;\">\n",
       "      <th></th>\n",
       "      <th>seller_item_name</th>\n",
       "      <th>price</th>\n",
       "      <th>Predicted</th>\n",
       "      <th>Confidence</th>\n",
       "    </tr>\n",
       "  </thead>\n",
       "  <tbody>\n",
       "    <tr>\n",
       "      <th>0</th>\n",
       "      <td>موزابرايد 5 مجم ق 3 ش/ويسترن</td>\n",
       "      <td>91.5</td>\n",
       "      <td>1312</td>\n",
       "      <td>1.00</td>\n",
       "    </tr>\n",
       "    <tr>\n",
       "      <th>1</th>\n",
       "      <td>ميكروسرك 16 اقراص</td>\n",
       "      <td>29.0</td>\n",
       "      <td>4743</td>\n",
       "      <td>1.00</td>\n",
       "    </tr>\n",
       "    <tr>\n",
       "      <th>2</th>\n",
       "      <td>البافيت كالسيوم شراب</td>\n",
       "      <td>26.0</td>\n",
       "      <td>2517</td>\n",
       "      <td>1.00</td>\n",
       "    </tr>\n",
       "    <tr>\n",
       "      <th>3</th>\n",
       "      <td>زيستريل 20 مجم اقراص</td>\n",
       "      <td>52.0</td>\n",
       "      <td>2374</td>\n",
       "      <td>1.00</td>\n",
       "    </tr>\n",
       "    <tr>\n",
       "      <th>4</th>\n",
       "      <td>اتور 10مجم اقراص</td>\n",
       "      <td>33.0</td>\n",
       "      <td>639</td>\n",
       "      <td>1.00</td>\n",
       "    </tr>\n",
       "  </tbody>\n",
       "</table>\n",
       "</div>"
      ],
      "text/plain": [
       "               seller_item_name  price Predicted Confidence\n",
       "0  موزابرايد 5 مجم ق 3 ش/ويسترن   91.5      1312       1.00\n",
       "1             ميكروسرك 16 اقراص   29.0      4743       1.00\n",
       "2         البافيت كالسيوم شراب    26.0      2517       1.00\n",
       "3         زيستريل 20 مجم اقراص    52.0      2374       1.00\n",
       "4              اتور 10مجم اقراص   33.0       639       1.00"
      ]
     },
     "execution_count": 24,
     "metadata": {},
     "output_type": "execute_result"
    }
   ],
   "source": [
    "predicted_df['Predicted'] = temp_df['Predicted'].values\n",
    "predicted_df['Confidence'] = temp_df['Confidence'].values\n",
    "predicted_df.head()"
   ]
  },
  {
   "cell_type": "code",
   "execution_count": 25,
   "metadata": {},
   "outputs": [],
   "source": [
    "predicted_df.to_csv('predicted.csv', index=False, encoding='utf-8-sig')"
   ]
  }
 ],
 "metadata": {
  "kernelspec": {
   "display_name": "Python 3 (ipykernel)",
   "language": "python",
   "name": "python3"
  },
  "language_info": {
   "codemirror_mode": {
    "name": "ipython",
    "version": 3
   },
   "file_extension": ".py",
   "mimetype": "text/x-python",
   "name": "python",
   "nbconvert_exporter": "python",
   "pygments_lexer": "ipython3",
   "version": "3.12.4"
  }
 },
 "nbformat": 4,
 "nbformat_minor": 2
}
